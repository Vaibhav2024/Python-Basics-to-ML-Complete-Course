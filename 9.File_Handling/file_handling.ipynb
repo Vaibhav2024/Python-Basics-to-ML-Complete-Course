{
 "cells": [
  {
   "cell_type": "markdown",
   "metadata": {},
   "source": [
    "# Module: File Handling Assignments\n",
    "## Lesson: File Handling and Operations\n",
    "### Assignment 1: Reading a File\n",
    "\n",
    "Write a function that reads the contents of a file named `sample.txt` and prints each line."
   ]
  },
  {
   "cell_type": "code",
   "execution_count": 4,
   "metadata": {},
   "outputs": [
    {
     "name": "stdout",
     "output_type": "stream",
     "text": [
      "Hello My Name is Vaibhav\n",
      "Hello My Name is Poonam\n"
     ]
    }
   ],
   "source": [
    "def read_lines(file_name):\n",
    "    with open(file_name, \"r\") as file_object:\n",
    "        for line in file_object:\n",
    "            print(line.strip())\n",
    "\n",
    "read_lines(\"sample.txt\")"
   ]
  },
  {
   "cell_type": "markdown",
   "metadata": {},
   "source": [
    "### Assignment 2: Writing to a File\n",
    "\n",
    "Write a function that writes a list of strings to a file named `output.txt`, with each string on a new line."
   ]
  },
  {
   "cell_type": "code",
   "execution_count": 5,
   "metadata": {},
   "outputs": [],
   "source": [
    "def write_list(file_name):\n",
    "    list1 = [\"My Name is Vaibhav \\n\", \"My Name is Poonam\"]\n",
    "    with open(file_name, \"w\") as file_object:\n",
    "        file_object.writelines(list1)\n",
    "\n",
    "write_list(\"output.txt\")"
   ]
  },
  {
   "cell_type": "markdown",
   "metadata": {},
   "source": [
    "### Assignment 3: Copying a File\n",
    "\n",
    "Write a function that copies the contents of a file named `source.txt` to a new file named `destination.txt`."
   ]
  },
  {
   "cell_type": "code",
   "execution_count": 7,
   "metadata": {},
   "outputs": [],
   "source": [
    "def copy_file(file_name):\n",
    "    with open(file_name, \"r\") as file_object:\n",
    "        content = file_object.read()\n",
    "    \n",
    "    with open(\"destination.txt\", \"w\") as file_object:\n",
    "        for line in content:\n",
    "            file_object.write(line)\n",
    "\n",
    "copy_file(\"sample.txt\")"
   ]
  },
  {
   "cell_type": "markdown",
   "metadata": {},
   "source": [
    "### Assignment 4: Appending to a File\n",
    "\n",
    "Write a function that appends a given string to the end of a file named `log.txt`."
   ]
  },
  {
   "cell_type": "code",
   "execution_count": 9,
   "metadata": {},
   "outputs": [],
   "source": [
    "def appending_string(file_name):\n",
    "    string = \"\\n I am the Best Developer\"\n",
    "    with open(file_name, \"a\") as file_object:\n",
    "        file_object.write(string)\n",
    "\n",
    "appending_string(\"sample.txt\")"
   ]
  },
  {
   "cell_type": "markdown",
   "metadata": {},
   "source": [
    "### Assignment 5: Counting Words in a File\n",
    "\n",
    "Write a function that reads the contents of a file named `document.txt` and returns the number of words in the file."
   ]
  },
  {
   "cell_type": "code",
   "execution_count": 17,
   "metadata": {},
   "outputs": [
    {
     "data": {
      "text/plain": [
       "15"
      ]
     },
     "execution_count": 17,
     "metadata": {},
     "output_type": "execute_result"
    }
   ],
   "source": [
    "def count_words(file_name):\n",
    "    with open(file_name, \"r\") as file_object:\n",
    "        var1 = file_object.read()\n",
    "        words = var1.split()\n",
    "        return len(words)\n",
    "\n",
    "count_words(\"sample.txt\")"
   ]
  },
  {
   "cell_type": "markdown",
   "metadata": {},
   "source": [
    "### Assignment 6: Finding and Replacing Text\n",
    "\n",
    "Write a function that finds and replaces all occurrences of a given word in a file named `data.txt` with another word."
   ]
  },
  {
   "cell_type": "code",
   "execution_count": 3,
   "metadata": {},
   "outputs": [],
   "source": [
    "def find_and_replace(filename, old_word, new_word):\n",
    "    with open(filename, \"r\") as file_object:\n",
    "        text = file_object.read()\n",
    "    new_text = text.replace(old_word, new_word)\n",
    "    with open(filename, \"w\") as file_object:\n",
    "        file_object.write(new_text)\n",
    "\n",
    "find_and_replace(\"sample.txt\", \"Hello\", \"Meow Meow\")"
   ]
  },
  {
   "cell_type": "markdown",
   "metadata": {},
   "source": [
    "### Assignment 7: Reading a File in Reverse\n",
    "\n",
    "Write a function that reads the contents of a file named `reverse.txt` and prints each line in reverse order."
   ]
  },
  {
   "cell_type": "code",
   "execution_count": 6,
   "metadata": {},
   "outputs": [
    {
     "name": "stdout",
     "output_type": "stream",
     "text": [
      "I am the Best Developer\n",
      "Meow Meow My Name is PoonamI\n",
      "Meow Meow My Name is Vaibhav\n"
     ]
    }
   ],
   "source": [
    "def reversed_read(filename):\n",
    "    with open(filename, \"r\") as file_object:\n",
    "        lines = file_object.readlines()\n",
    "        for line in reversed(lines):\n",
    "            print(line.strip())\n",
    "\n",
    "reversed_read(\"sample.txt\")"
   ]
  },
  {
   "cell_type": "markdown",
   "metadata": {},
   "source": [
    "### Assignment 8: Counting Lines, Words, and Characters\n",
    "\n",
    "Write a function that reads the contents of a file named `stats.txt` and returns the number of lines, words, and characters in the file."
   ]
  },
  {
   "cell_type": "code",
   "execution_count": 10,
   "metadata": {},
   "outputs": [
    {
     "name": "stdout",
     "output_type": "stream",
     "text": [
      "Number of Lines Are: 3\n",
      "Number of Words are : 17\n",
      "Number of characters are : 82\n"
     ]
    }
   ],
   "source": [
    "def count_lwc(filename):\n",
    "    with open(filename, \"r\") as file_object:\n",
    "        lines = file_object.readlines()\n",
    "        print(\"Number of Lines Are:\", len(lines))\n",
    "        words = sum(len(line.split()) for line in lines)\n",
    "        print(\"Number of Words are :\", words)\n",
    "        char = sum(len(line) for line in lines)\n",
    "        print(\"Number of characters are :\", char)\n",
    "count_lwc(\"sample.txt\")"
   ]
  },
  {
   "cell_type": "markdown",
   "metadata": {},
   "source": [
    "### Assignment 9: Merging Multiple Files\n",
    "\n",
    "Write a function that merges the contents of multiple files into a single file named `merged.txt`."
   ]
  },
  {
   "cell_type": "code",
   "execution_count": 14,
   "metadata": {},
   "outputs": [],
   "source": [
    "def merge_files(file_name, merged):\n",
    "    with open(merged, \"w\") as file_object1:\n",
    "        for i in file_name:\n",
    "            with open(i, \"r\") as file_object2:\n",
    "                file_object1.write(file_object2.read())\n",
    "\n",
    "merge_files(['sample.txt', 'destination.txt'], 'merged.txt')"
   ]
  },
  {
   "cell_type": "markdown",
   "metadata": {},
   "source": [
    "### Assignment 10: Splitting a Large File\n",
    "\n",
    "Write a function that splits a large file named `large.txt` into smaller files of 100 lines each."
   ]
  },
  {
   "cell_type": "code",
   "execution_count": 15,
   "metadata": {},
   "outputs": [],
   "source": [
    "def split_files(filename, lines_per_files):\n",
    "    with open(filename, 'r') as file_object1:\n",
    "        lines = file_object1.readlines()\n",
    "    for i in range(0, len(lines), lines_per_files):\n",
    "        with open(f'{filename}_part{i//lines_per_files + 1}.txt', 'w') as part_file:\n",
    "            part_file.writelines(lines[i:i + lines_per_files])\n",
    "\n",
    "split_files('output.txt', 4)"
   ]
  },
  {
   "cell_type": "markdown",
   "metadata": {},
   "source": [
    "### Assignment 11: Creating a Log File\n",
    "\n",
    "Write a function that creates a log file named `activity.log` and writes log messages with timestamps."
   ]
  },
  {
   "cell_type": "code",
   "execution_count": 17,
   "metadata": {},
   "outputs": [],
   "source": [
    "import datetime\n",
    "\n",
    "def log_message(message, file_name = \"activity.log\"):\n",
    "    timestamp = datetime.datetime.now().isoformat() #isoformat converts date and time into string\n",
    "    with open(file_name, 'a') as file_object:\n",
    "        file_object.write(f'[{timestamp}] {message}\\n')\n",
    "log_message('This is a log message.')"
   ]
  },
  {
   "cell_type": "markdown",
   "metadata": {},
   "source": [
    "### Assignment 12: Binary File Operations\n",
    "\n",
    "Write a function that reads a binary file named `image.bin` and writes its contents to another binary file named `copy_image.bin`."
   ]
  },
  {
   "cell_type": "code",
   "execution_count": 23,
   "metadata": {},
   "outputs": [],
   "source": [
    "def copy_bin_file(filename, destination):\n",
    "    with open(filename, \"rb\") as file_object1:\n",
    "        with open(destination, \"wb\") as file_object2:\n",
    "            file_object2.write(file_object1.read())\n",
    "\n",
    "copy_bin_file('image.bin', 'copy_image.bin')"
   ]
  },
  {
   "cell_type": "markdown",
   "metadata": {},
   "source": [
    "### Assignment 13: CSV File Operations\n",
    "\n",
    "Write a function that reads a CSV file named `data.csv` and prints its contents as a list of dictionaries."
   ]
  },
  {
   "cell_type": "code",
   "execution_count": 35,
   "metadata": {},
   "outputs": [
    {
     "data": {
      "text/plain": [
       "({'Vaibhav': '32', ' Poonam': ' 37'},)"
      ]
     },
     "execution_count": 35,
     "metadata": {},
     "output_type": "execute_result"
    }
   ],
   "source": [
    "import csv\n",
    "\n",
    "def read_csv_as_dicts(filename):\n",
    "    with open(filename, 'r') as file:\n",
    "        reader = csv.DictReader(file)\n",
    "        return list(reader)\n",
    "\n",
    "read_csv_as_dicts('data.csv')"
   ]
  },
  {
   "cell_type": "markdown",
   "metadata": {},
   "source": [
    "### Assignment 14: JSON File Operations\n",
    "\n",
    "Write a function that reads a JSON file named `data.json` and prints its contents as a Python dictionary."
   ]
  },
  {
   "cell_type": "code",
   "execution_count": 31,
   "metadata": {},
   "outputs": [
    {
     "name": "stdout",
     "output_type": "stream",
     "text": [
      "{'name': 'John Doe', 'age': 30, 'email': 'johndoe@example.com', 'is_student': False, 'courses': ['Math', 'Science', 'History']}\n"
     ]
    }
   ],
   "source": [
    "import json\n",
    "\n",
    "def read_json(filename):\n",
    "    with open(filename, \"r\") as file:\n",
    "        data = json.load(file)\n",
    "        return data\n",
    "    \n",
    "print(read_json('data.json'))"
   ]
  },
  {
   "cell_type": "markdown",
   "metadata": {},
   "source": [
    "### Assignment 15: File Permission Handling\n",
    "\n",
    "Write a function that attempts to read a file named `protected.txt` and handles any permission errors gracefully by printing an error message."
   ]
  },
  {
   "cell_type": "code",
   "execution_count": 32,
   "metadata": {},
   "outputs": [
    {
     "name": "stdout",
     "output_type": "stream",
     "text": [
      "\n"
     ]
    }
   ],
   "source": [
    "def read_protected_file(filename):\n",
    "    try:\n",
    "        with open(filename, 'r') as file:\n",
    "            print(file.read())\n",
    "    except PermissionError as e:\n",
    "        print(f\"Permission error: {e}\")\n",
    "\n",
    "read_protected_file('protected.txt')"
   ]
  },
  {
   "cell_type": "markdown",
   "metadata": {},
   "source": [
    "16.Reading and Writing a file without using open() or opening file"
   ]
  },
  {
   "cell_type": "code",
   "execution_count": 5,
   "metadata": {},
   "outputs": [
    {
     "data": {
      "text/plain": [
       "66"
      ]
     },
     "execution_count": 5,
     "metadata": {},
     "output_type": "execute_result"
    }
   ],
   "source": [
    "from pathlib import Path\n",
    "\n",
    "path = Path('sample.txt')\n",
    "existing_content = path.read_text()\n",
    "new_content = existing_content + \"My name is Vaibhav Hello\"\n",
    "path.write_text(new_content)"
   ]
  },
  {
   "cell_type": "code",
   "execution_count": null,
   "metadata": {},
   "outputs": [],
   "source": []
  }
 ],
 "metadata": {
  "kernelspec": {
   "display_name": "Python 3",
   "language": "python",
   "name": "python3"
  },
  "language_info": {
   "codemirror_mode": {
    "name": "ipython",
    "version": 3
   },
   "file_extension": ".py",
   "mimetype": "text/x-python",
   "name": "python",
   "nbconvert_exporter": "python",
   "pygments_lexer": "ipython3",
   "version": "3.12.4"
  }
 },
 "nbformat": 4,
 "nbformat_minor": 2
}
