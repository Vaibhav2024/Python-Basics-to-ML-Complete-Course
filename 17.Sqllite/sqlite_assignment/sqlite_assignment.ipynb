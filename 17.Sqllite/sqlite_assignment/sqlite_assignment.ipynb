{
 "cells": [
  {
   "cell_type": "markdown",
   "metadata": {},
   "source": [
    "# Module: SQLite3 Assignments\n",
    "## Lesson: SQLite3\n",
    "### Assignment 1: Creating and Connecting to a Database\n",
    "\n",
    "1. Write a Python function to create a new SQLite3 database named `test.db`."
   ]
  },
  {
   "cell_type": "code",
   "execution_count": 3,
   "metadata": {},
   "outputs": [
    {
     "name": "stdout",
     "output_type": "stream",
     "text": [
      "Database Created Successfully\n"
     ]
    }
   ],
   "source": [
    "import sqlite3\n",
    "\n",
    "def create_database():\n",
    "    connection = sqlite3.connect('test1.db')\n",
    "    connection.close()\n",
    "    print(\"Database Created Successfully\")\n",
    "\n",
    "create_database()"
   ]
  },
  {
   "cell_type": "markdown",
   "metadata": {},
   "source": [
    "2. Write a Python function to create a table named `employees` with columns `id` (integer), `name` (text), `age` (integer), and `department` (text) in the `test.db` database."
   ]
  },
  {
   "cell_type": "code",
   "execution_count": 4,
   "metadata": {},
   "outputs": [],
   "source": [
    "def create_table():\n",
    "    connection = sqlite3.connect('test1.db')\n",
    "    cursor = connection.cursor()\n",
    "\n",
    "    cursor.execute('''\n",
    "        Create Table If Not Exists employees(\n",
    "            id Integer Primary Key,\n",
    "            name Text Not Null,\n",
    "            age Integer Not Null,\n",
    "            department Text Not Null   \n",
    "        )\n",
    "    ''')\n",
    "\n",
    "    connection.commit()\n",
    "\n",
    "create_table()\n"
   ]
  },
  {
   "cell_type": "code",
   "execution_count": null,
   "metadata": {},
   "outputs": [],
   "source": []
  }
 ],
 "metadata": {
  "kernelspec": {
   "display_name": "Python 3",
   "language": "python",
   "name": "python3"
  },
  "language_info": {
   "codemirror_mode": {
    "name": "ipython",
    "version": 3
   },
   "file_extension": ".py",
   "mimetype": "text/x-python",
   "name": "python",
   "nbconvert_exporter": "python",
   "pygments_lexer": "ipython3",
   "version": "3.12.4"
  }
 },
 "nbformat": 4,
 "nbformat_minor": 2
}
