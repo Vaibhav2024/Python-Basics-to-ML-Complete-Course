{
 "cells": [
  {
   "cell_type": "code",
   "execution_count": 1,
   "metadata": {},
   "outputs": [],
   "source": [
    "import sqlite3"
   ]
  },
  {
   "cell_type": "code",
   "execution_count": 2,
   "metadata": {},
   "outputs": [
    {
     "data": {
      "text/plain": [
       "<sqlite3.Connection at 0x1ca5bdee890>"
      ]
     },
     "execution_count": 2,
     "metadata": {},
     "output_type": "execute_result"
    }
   ],
   "source": [
    "connection = sqlite3.connect('example1.db')\n",
    "connection"
   ]
  },
  {
   "cell_type": "code",
   "execution_count": 3,
   "metadata": {},
   "outputs": [],
   "source": [
    "cursor = connection.cursor()"
   ]
  },
  {
   "cell_type": "code",
   "execution_count": 4,
   "metadata": {},
   "outputs": [],
   "source": [
    "cursor.execute('''\n",
    "    Create Table If Not Exists employee(\n",
    "        id Integer Primary Key,\n",
    "        name Text Not Null,\n",
    "        department Text             \n",
    "    )\n",
    "''')\n",
    "# without commit changes will not be applied\n",
    "connection.commit()"
   ]
  },
  {
   "cell_type": "code",
   "execution_count": 5,
   "metadata": {},
   "outputs": [
    {
     "data": {
      "text/plain": [
       "<sqlite3.Cursor at 0x1ca5bfebe40>"
      ]
     },
     "execution_count": 5,
     "metadata": {},
     "output_type": "execute_result"
    }
   ],
   "source": [
    "cursor.execute('''\n",
    "    Select * from employee\n",
    "''')\n",
    "# rturns an object"
   ]
  },
  {
   "cell_type": "code",
   "execution_count": 9,
   "metadata": {},
   "outputs": [],
   "source": [
    "## Inserting data in table\n",
    "cursor.execute('''\n",
    "    Insert Into employee(name,id,department)\n",
    "        VALUES('Krish', 33, 'Data Scientist')\n",
    "''')\n",
    "\n",
    "cursor.execute('''\n",
    "    Insert Into employee(name,id,department)\n",
    "        VALUES('Poonam', 32, 'Data Scientist')\n",
    "''')\n",
    "\n",
    "cursor.execute('''\n",
    "    Insert Into employee(name,id,department)\n",
    "        VALUES('Vaibhav', 31, 'Data Scientist')\n",
    "''')\n",
    "connection.commit()"
   ]
  },
  {
   "cell_type": "code",
   "execution_count": 10,
   "metadata": {},
   "outputs": [
    {
     "name": "stdout",
     "output_type": "stream",
     "text": [
      "(31, 'Vaibhav', 'Data Scientist')\n",
      "(32, 'Poonam', 'Data Scientist')\n",
      "(33, 'Krish', 'Data Scientist')\n"
     ]
    }
   ],
   "source": [
    "# query the data from table\n",
    "cursor.execute('Select * from employee')\n",
    "rows = cursor.fetchall()\n",
    "for row in rows:\n",
    "    print(row)"
   ]
  },
  {
   "cell_type": "code",
   "execution_count": 11,
   "metadata": {},
   "outputs": [],
   "source": [
    "# update the data in table\n",
    "cursor.execute('''\n",
    "UPDATE employee\n",
    "Set id=39\n",
    "where name=\"Krish\"\n",
    "''')\n",
    "\n",
    "connection.commit()"
   ]
  },
  {
   "cell_type": "code",
   "execution_count": 12,
   "metadata": {},
   "outputs": [
    {
     "name": "stdout",
     "output_type": "stream",
     "text": [
      "(31, 'Vaibhav', 'Data Scientist')\n",
      "(32, 'Poonam', 'Data Scientist')\n",
      "(39, 'Krish', 'Data Scientist')\n"
     ]
    }
   ],
   "source": [
    "cursor.execute('Select * from employee')\n",
    "rows = cursor.fetchall()\n",
    "for row in rows:\n",
    "    print(row)"
   ]
  },
  {
   "cell_type": "code",
   "execution_count": 13,
   "metadata": {},
   "outputs": [],
   "source": [
    "# Delete the Data from table\n",
    "cursor.execute('''\n",
    "Delete from employee\n",
    "               where name = 'Krish'\n",
    "''')\n",
    "connection.commit()"
   ]
  },
  {
   "cell_type": "code",
   "execution_count": 14,
   "metadata": {},
   "outputs": [
    {
     "name": "stdout",
     "output_type": "stream",
     "text": [
      "(31, 'Vaibhav', 'Data Scientist')\n",
      "(32, 'Poonam', 'Data Scientist')\n"
     ]
    }
   ],
   "source": [
    "cursor.execute('Select * from employee')\n",
    "rows = cursor.fetchall()\n",
    "for row in rows:\n",
    "    print(row)"
   ]
  },
  {
   "cell_type": "markdown",
   "metadata": {},
   "source": [
    "## Working With Sales database practical"
   ]
  },
  {
   "cell_type": "code",
   "execution_count": 17,
   "metadata": {},
   "outputs": [],
   "source": [
    "connection = sqlite3.connect('sales_data.db')\n",
    "cursor = connection.cursor()\n",
    "\n",
    "cursor.execute('''\n",
    "    Create Table If Not Exists sales_database(\n",
    "        id Integer Primary Key,\n",
    "        date Text Not Null,\n",
    "        product Text Not Null,\n",
    "        sales Integer,\n",
    "        region Text           \n",
    "    )\n",
    "''')\n",
    "\n",
    "sales_data = [\n",
    "    ('2023-01-01', 'Product1', 100, 'North'),\n",
    "    ('2023-01-02', 'Product3', 150, 'East'),\n",
    "    ('2023-01-03', 'Product1', 200, 'West'),\n",
    "    ('2023-01-04', 'Product2', 300, 'South')\n",
    "]\n",
    "\n",
    "cursor.executemany('''\n",
    "INSERT INTO sales_database(date, product, sales, region)\n",
    "                   values(?,?,?,?) \n",
    "''',sales_data)\n",
    "\n",
    "connection.commit(\n",
    "    \n",
    ")"
   ]
  },
  {
   "cell_type": "code",
   "execution_count": 18,
   "metadata": {},
   "outputs": [
    {
     "name": "stdout",
     "output_type": "stream",
     "text": [
      "(1, '2023-01-01', 'Product1', 100, 'North')\n",
      "(2, '2023-01-02', 'Product3', 150, 'East')\n",
      "(3, '2023-01-03', 'Product1', 200, 'West')\n",
      "(4, '2023-01-04', 'Product2', 300, 'South')\n"
     ]
    }
   ],
   "source": [
    "cursor.execute('Select * from sales_database')\n",
    "rows = cursor.fetchall()\n",
    "for row in rows:\n",
    "    print(row)\n"
   ]
  },
  {
   "cell_type": "code",
   "execution_count": null,
   "metadata": {},
   "outputs": [],
   "source": []
  }
 ],
 "metadata": {
  "kernelspec": {
   "display_name": "Python 3",
   "language": "python",
   "name": "python3"
  },
  "language_info": {
   "codemirror_mode": {
    "name": "ipython",
    "version": 3
   },
   "file_extension": ".py",
   "mimetype": "text/x-python",
   "name": "python",
   "nbconvert_exporter": "python",
   "pygments_lexer": "ipython3",
   "version": "3.12.4"
  }
 },
 "nbformat": 4,
 "nbformat_minor": 2
}
