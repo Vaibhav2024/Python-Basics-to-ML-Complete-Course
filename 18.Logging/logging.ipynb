{
 "cells": [
  {
   "cell_type": "markdown",
   "metadata": {},
   "source": [
    "# Python Logging"
   ]
  },
  {
   "cell_type": "markdown",
   "metadata": {},
   "source": [
    "Logging is a crucial aspect of application, providing a way to track events, errors, and operational information. Python build in logging module offers a flexible framework for emmiting log messagefrom python program. in this lesson, we will cover the basics of logging, including how to configure logging , log levels, and best practices for using logging in python application"
   ]
  },
  {
   "cell_type": "code",
   "execution_count": 2,
   "metadata": {},
   "outputs": [
    {
     "name": "stderr",
     "output_type": "stream",
     "text": [
      "DEBUG:root:This is an debug message\n",
      "INFO:root:This is an info message\n",
      "WARNING:root:This is an warning message\n",
      "ERROR:root:This is an critical message\n",
      "CRITICAL:root:This is an critical message\n"
     ]
    }
   ],
   "source": [
    "import logging\n",
    "\n",
    "## configure the basic config\n",
    "logging.basicConfig(level=logging.DEBUG)\n",
    "\n",
    "#log message\n",
    "logging.debug(\"This is an debug message\")\n",
    "logging.info(\"This is an info message\")\n",
    "logging.warning(\"This is an warning message\")\n",
    "logging.error(\"This is an critical message\")\n",
    "logging.critical(\"This is an critical message\")"
   ]
  },
  {
   "cell_type": "markdown",
   "metadata": {},
   "source": [
    "Python's logging module has several log levels indicating the severity of events. The default levels are:\n",
    "\n",
    "DEBUG: Detailed information, typically of interest only when diagnosing problems.\n",
    "\n",
    "INFO: Confirmation that things are working as expected.\n",
    "\n",
    "WARNING: An indication that something unexpected happened or indicative of some problem in the near future (e.g., ‘disk space low’). The software is still working as expected.\n",
    "\n",
    "ERROR: Due to a more serious problem, the software has not been able to perform some function.\n",
    "\n",
    "CRITICAL: A very serious error, indicating that the program itself may be unable to continue running."
   ]
  },
  {
   "cell_type": "code",
   "execution_count": 1,
   "metadata": {},
   "outputs": [],
   "source": [
    "import logging\n",
    "## configuring logging\n",
    "logging.basicConfig(\n",
    "    filename=\"app.log\",\n",
    "    filemode='w',\n",
    "    level=logging.DEBUG,\n",
    "    format='%(asctime)s-%(name)s-%(levelname)s-%(message)s',\n",
    "    datefmt='%Y-%m-%d %H:%M:%S',\n",
    ")\n",
    "logging.debug(\"This is an debug message\")\n",
    "logging.info(\"This is an info message\")\n",
    "logging.warning(\"This is an warning message\")\n",
    "logging.error(\"This is an critical message\")\n",
    "logging.critical(\"This is an critical message\")"
   ]
  },
  {
   "cell_type": "code",
   "execution_count": null,
   "metadata": {},
   "outputs": [],
   "source": []
  }
 ],
 "metadata": {
  "kernelspec": {
   "display_name": "Python 3",
   "language": "python",
   "name": "python3"
  },
  "language_info": {
   "codemirror_mode": {
    "name": "ipython",
    "version": 3
   },
   "file_extension": ".py",
   "mimetype": "text/x-python",
   "name": "python",
   "nbconvert_exporter": "python",
   "pygments_lexer": "ipython3",
   "version": "3.12.4"
  }
 },
 "nbformat": 4,
 "nbformat_minor": 2
}
