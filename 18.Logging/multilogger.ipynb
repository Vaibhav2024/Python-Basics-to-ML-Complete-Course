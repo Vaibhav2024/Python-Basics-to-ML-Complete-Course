{
 "cells": [
  {
   "cell_type": "markdown",
   "metadata": {},
   "source": [
    "When we were using basic logging we can see that we can see root in log but by multilogger we are assigning a perticular level to log so instead of root we can see module names\n",
    "\n",
    "ex: Before: 2024-08-14 11:08:01-root-DEBUG-The Addition Function is Called\n",
    "\n",
    "    After: 2024-08-14 11:19:10 - Module1 - DEBUG - This is a debug messag for module1"
   ]
  },
  {
   "cell_type": "code",
   "execution_count": 1,
   "metadata": {},
   "outputs": [],
   "source": [
    "import logging\n",
    "## creaate a logger\n",
    "logger1  = logging.getLogger(\"Module1\")\n",
    "logger1.setLevel(logging.DEBUG)\n",
    "\n",
    "## Create a logger for module 2\n",
    "\n",
    "logger2 = logging.getLogger(\"Module2\")\n",
    "logger2.setLevel(logging.WARNING)\n",
    "\n",
    "logging.basicConfig(\n",
    "    level=logging.DEBUG,\n",
    "    format='%(asctime)s - %(name)s - %(levelname)s - %(message)s',\n",
    "    datefmt='%Y-%m-%d %H:%M:%S'\n",
    ")"
   ]
  },
  {
   "cell_type": "code",
   "execution_count": 2,
   "metadata": {},
   "outputs": [
    {
     "name": "stderr",
     "output_type": "stream",
     "text": [
      "2024-08-14 11:19:10 - Module1 - DEBUG - This is a debug messag for module1\n",
      "2024-08-14 11:19:10 - Module2 - WARNING - This is a warning message for module2\n",
      "2024-08-14 11:19:10 - Module2 - ERROR - This is error message\n"
     ]
    }
   ],
   "source": [
    "### log messages with different loggers\n",
    "logger1.debug(\"This is a debug messag for module1\")\n",
    "logger2.warning(\"This is a warning message for module2\")\n",
    "logger2.error(\"This is error message\")"
   ]
  },
  {
   "cell_type": "code",
   "execution_count": null,
   "metadata": {},
   "outputs": [],
   "source": []
  }
 ],
 "metadata": {
  "kernelspec": {
   "display_name": "Python 3",
   "language": "python",
   "name": "python3"
  },
  "language_info": {
   "codemirror_mode": {
    "name": "ipython",
    "version": 3
   },
   "file_extension": ".py",
   "mimetype": "text/x-python",
   "name": "python",
   "nbconvert_exporter": "python",
   "pygments_lexer": "ipython3",
   "version": "3.12.4"
  }
 },
 "nbformat": 4,
 "nbformat_minor": 2
}
