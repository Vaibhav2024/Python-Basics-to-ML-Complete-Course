{
 "cells": [
  {
   "cell_type": "markdown",
   "metadata": {},
   "source": [
    "# Module: NumPy Assignments\n",
    "## Lesson: NumPy\n",
    "### Assignment 1: Array Creation and Manipulation\n",
    "\n",
    "1. Create a NumPy array of shape (5, 5) filled with random integers between 1 and 20. Replace all the elements in the third column with 1."
   ]
  },
  {
   "cell_type": "code",
   "execution_count": 2,
   "metadata": {},
   "outputs": [
    {
     "name": "stdout",
     "output_type": "stream",
     "text": [
      "Original Array:\n",
      " [[ 8 13  1 18 13]\n",
      " [13  9 10 15 11]\n",
      " [18  3 15  2  9]\n",
      " [ 3  4  6  5  7]\n",
      " [13 12 15  4 17]]\n",
      "[[ 8 13  1 18 13]\n",
      " [13  9  1 15 11]\n",
      " [18  3  1  2  9]\n",
      " [ 3  4  1  5  7]\n",
      " [13 12  1  4 17]]\n"
     ]
    }
   ],
   "source": [
    "import numpy as np\n",
    "array = np.random.randint(1, 20, size=(5, 5))   #random array\n",
    "print(\"Original Array:\\n\", array)\n",
    "\n",
    "array[:, 2] = 1\n",
    "print(array)"
   ]
  },
  {
   "cell_type": "markdown",
   "metadata": {},
   "source": [
    "2. Create a NumPy array of shape (4, 4) with values from 1 to 16. Replace the diagonal elements with 0."
   ]
  },
  {
   "cell_type": "code",
   "execution_count": 16,
   "metadata": {},
   "outputs": [
    {
     "name": "stdout",
     "output_type": "stream",
     "text": [
      "[[ 0  6 13  3]\n",
      " [ 8  0 11  8]\n",
      " [ 3  6  0  9]\n",
      " [11 12 14  0]]\n"
     ]
    }
   ],
   "source": [
    "array1 = np.random.randint(1, 16, size=(4, 4))\n",
    "np.fill_diagonal(array1, 0)     #fill_diagonal is used to fill diagonal elements with value\n",
    "print(array1)"
   ]
  },
  {
   "cell_type": "markdown",
   "metadata": {},
   "source": [
    "### Assignment 2: Array Indexing and Slicing\n",
    "\n",
    "1. Create a NumPy array of shape (6, 6) with values from 1 to 36. Extract the sub-array consisting of the 3rd to 5th rows and 2nd to 4th columns."
   ]
  },
  {
   "cell_type": "code",
   "execution_count": 28,
   "metadata": {},
   "outputs": [
    {
     "name": "stdout",
     "output_type": "stream",
     "text": [
      "[[17  9 12 12 15 11]\n",
      " [ 9  2  4 30 18  3]\n",
      " [34 23 17 15 21  7]\n",
      " [32 16 32 15 27 20]\n",
      " [ 6  1 20  5 17 23]\n",
      " [ 5 32  6 15  2  3]]\n",
      "\n",
      "[[34 23 17 15 21  7]\n",
      " [32 16 32 15 27 20]\n",
      " [ 6  1 20  5 17 23]]\n",
      "\n",
      "[[ 9 12 12]\n",
      " [ 2  4 30]\n",
      " [23 17 15]\n",
      " [16 32 15]\n",
      " [ 1 20  5]\n",
      " [32  6 15]]\n",
      "---------------------------------------------\n",
      "[[23 17 15]\n",
      " [16 32 15]\n",
      " [ 1 20  5]]\n"
     ]
    }
   ],
   "source": [
    "array1 = np.random.randint(1, 36, size=(6, 6))\n",
    "print(array1)\n",
    "print()\n",
    "\n",
    "array2 = array1[2:5]\n",
    "print(array2)\n",
    "print()\n",
    "\n",
    "array3 = array1[:,1:4]\n",
    "print(array3)\n",
    "print(\"---------------------------------------------\")\n",
    "sub_array = array1[2: 5, 1:4]\n",
    "print(sub_array)"
   ]
  },
  {
   "cell_type": "markdown",
   "metadata": {},
   "source": [
    "2. Create a NumPy array of shape (5, 5) with random integers. Extract the elements on the border."
   ]
  },
  {
   "cell_type": "code",
   "execution_count": 31,
   "metadata": {},
   "outputs": [
    {
     "name": "stdout",
     "output_type": "stream",
     "text": [
      "[3 7 6 9 5 8 1 4 6 7 2 4 4 8 5 3]\n"
     ]
    }
   ],
   "source": [
    "array = np.random.randint(1, 10, size=(5, 5))\n",
    "border_elements = np.concatenate((array[0, :], array[-1, :], array[1:-1, 0], array[1:-1, -1]))\n",
    "print(border_elements)\n",
    "#np.concatenate"
   ]
  },
  {
   "cell_type": "markdown",
   "metadata": {},
   "source": [
    "### Assignment 3: Array Operations\n",
    "\n",
    "1. Create two NumPy arrays of shape (3, 4) filled with random integers. Perform element-wise addition, subtraction, multiplication, and division."
   ]
  },
  {
   "cell_type": "code",
   "execution_count": 32,
   "metadata": {},
   "outputs": [
    {
     "name": "stdout",
     "output_type": "stream",
     "text": [
      "[[2 9 6 6]\n",
      " [1 8 7 3]\n",
      " [1 2 4 2]]\n",
      "\n",
      "[[6 6 1 1]\n",
      " [6 7 4 5]\n",
      " [8 3 6 8]]\n",
      "\n",
      "Addition\n",
      ": [[ 8 15  7  7]\n",
      " [ 7 15 11  8]\n",
      " [ 9  5 10 10]]\n",
      "Substraction\n",
      ": [[-4  3  5  5]\n",
      " [-5  1  3 -2]\n",
      " [-7 -1 -2 -6]]\n",
      "Multiplication\n",
      ": [[12 54  6  6]\n",
      " [ 6 56 28 15]\n",
      " [ 8  6 24 16]]\n",
      "Division\n",
      ": [[0.33333333 1.5        6.         6.        ]\n",
      " [0.16666667 1.14285714 1.75       0.6       ]\n",
      " [0.125      0.66666667 0.66666667 0.25      ]]\n"
     ]
    }
   ],
   "source": [
    "array1 = np.random.randint(1, 10, size=(3, 4))\n",
    "array2 = np.random.randint(1, 10, size=(3, 4))\n",
    "print(array1)\n",
    "print()\n",
    "print(array2)\n",
    "print()\n",
    "print(\"Addition\\n:\", array1+array2)\n",
    "print(\"Substraction\\n:\", array1-array2)\n",
    "print(\"Multiplication\\n:\", array1*array2)\n",
    "print(\"Division\\n:\", array1/array2)"
   ]
  },
  {
   "cell_type": "markdown",
   "metadata": {},
   "source": [
    "2. Create a NumPy array of shape (4, 4) with values from 1 to 16. Compute the row-wise and column-wise sum."
   ]
  },
  {
   "cell_type": "code",
   "execution_count": 34,
   "metadata": {},
   "outputs": [
    {
     "name": "stdout",
     "output_type": "stream",
     "text": [
      "[25 22 17 21]\n",
      "[18 26 20 21]\n"
     ]
    }
   ],
   "source": [
    "array1 = np.random.randint(1, 10, size=(4, 4))\n",
    "row_sum = np.sum(array1, axis=1)\n",
    "column_sum = np.sum(array1, axis=0)\n",
    "print(row_sum)\n",
    "print(column_sum)"
   ]
  },
  {
   "cell_type": "markdown",
   "metadata": {},
   "source": [
    "### Assignment 4: Statistical Operations\n",
    "\n",
    "1. Create a NumPy array of shape (5, 5) filled with random integers. Compute the mean, median, standard deviation, and variance of the array."
   ]
  },
  {
   "cell_type": "code",
   "execution_count": 39,
   "metadata": {},
   "outputs": [
    {
     "name": "stdout",
     "output_type": "stream",
     "text": [
      "Mean:3.6875\n",
      "Median:3.5\n",
      "Standard Deviation:2.2836032383056386\n",
      "Variance: 5.21484375\n"
     ]
    }
   ],
   "source": [
    "array1 = np.random.randint(1, 10, size=(4, 4))\n",
    "mean = np.mean(array1)\n",
    "median = np.median(array1)\n",
    "std = np.std(array1)\n",
    "variance = np.var(array1)\n",
    "print(f\"Mean:{mean}\\nMedian:{median}\\nStandard Deviation:{std}\\nVariance: {variance}\")"
   ]
  },
  {
   "cell_type": "markdown",
   "metadata": {},
   "source": [
    "2. Create a NumPy array of shape (3, 3) with values from 1 to 9. Normalize the array (i.e., scale the values to have a mean of 0 and a standard deviation of 1)."
   ]
  },
  {
   "cell_type": "code",
   "execution_count": 40,
   "metadata": {},
   "outputs": [
    {
     "name": "stdout",
     "output_type": "stream",
     "text": [
      "[[ 1.05045146 -0.91914503  1.05045146]\n",
      " [-0.13130643 -0.91914503 -1.31306433]\n",
      " [ 1.44437076 -0.91914503  0.65653216]]\n"
     ]
    }
   ],
   "source": [
    "array1 = np.random.randint(1, 9, size=(3, 3))\n",
    "mean = np.mean(array1)\n",
    "std = np.std(array1)\n",
    "normalized_array = (array1 - mean) / std\n",
    "print(normalized_array)"
   ]
  },
  {
   "cell_type": "markdown",
   "metadata": {},
   "source": [
    "### Assignment 5: Broadcasting\n",
    "\n",
    "1. Create a NumPy array of shape (3, 3) filled with random integers. Add(+) a 1D array of shape (3,) to each row of the 2D array using broadcasting."
   ]
  },
  {
   "cell_type": "code",
   "execution_count": 42,
   "metadata": {},
   "outputs": [
    {
     "name": "stdout",
     "output_type": "stream",
     "text": [
      "Original Array:\n",
      " [[6 1 6]\n",
      " [2 7 4]\n",
      " [1 2 7]]\n",
      "Row Array:\n",
      " [2 5 3]\n",
      "Resulting Array:\n",
      " [[ 8  6  9]\n",
      " [ 4 12  7]\n",
      " [ 3  7 10]]\n"
     ]
    }
   ],
   "source": [
    "array1 = np.random.randint(1, 9, size=(3, 3))\n",
    "row_array = np.random.randint(1, 9, size=(3, ))\n",
    "print(\"Original Array:\\n\", array1)\n",
    "print(\"Row Array:\\n\", row_array)\n",
    "result = array1 + row_array\n",
    "print(\"Resulting Array:\\n\", result)"
   ]
  },
  {
   "cell_type": "markdown",
   "metadata": {},
   "source": [
    "### Assignment 6: Linear Algebra\n",
    "\n",
    "1. Create a NumPy array of shape (3, 3) representing a matrix. Compute its determinant, inverse, and eigenvalues."
   ]
  },
  {
   "cell_type": "code",
   "execution_count": 43,
   "metadata": {},
   "outputs": [
    {
     "name": "stdout",
     "output_type": "stream",
     "text": [
      "Determinant: -35.00000000000001\n",
      "Inverse: [[-1.42857143  2.08571429 -0.8       ]\n",
      " [-0.          0.2        -0.2       ]\n",
      " [ 0.42857143 -0.68571429  0.4       ]]\n",
      "Eigenvalues: [18.31196011 -0.77576054  2.46380043]\n"
     ]
    }
   ],
   "source": [
    "matrix = np.random.randint(1, 11, size=(3, 3))\n",
    "print(\"Determinant:\", np.linalg.det(matrix))\n",
    "print(\"Inverse:\", np.linalg.inv(matrix))\n",
    "print(\"Eigenvalues:\", np.linalg.eigvals(matrix))"
   ]
  },
  {
   "cell_type": "markdown",
   "metadata": {},
   "source": [
    "2. Create two NumPy arrays of shape (2, 3) and (3, 2). Perform matrix multiplication on these arrays."
   ]
  },
  {
   "cell_type": "code",
   "execution_count": 45,
   "metadata": {},
   "outputs": [
    {
     "name": "stdout",
     "output_type": "stream",
     "text": [
      "[[138 108]\n",
      " [ 68  59]]\n"
     ]
    }
   ],
   "source": [
    "array1 = np.random.randint(1, 10, size=(2, 3))\n",
    "array2 = np.random.randint(1, 10, size=(3, 2))\n",
    "result = np.dot(array1, array2)     #np.dot() is used for matrix multiplication\n",
    "print(result)   "
   ]
  },
  {
   "cell_type": "markdown",
   "metadata": {},
   "source": [
    "### Assignment 7: Advanced Array Manipulation\n",
    "\n",
    "1. Create a NumPy array of shape (3, 3) with values from 1 to 9. Reshape the array to shape (1, 9) and then to shape (9, 1)."
   ]
  },
  {
   "cell_type": "code",
   "execution_count": 47,
   "metadata": {},
   "outputs": [
    {
     "name": "stdout",
     "output_type": "stream",
     "text": [
      "[[4 7 3]\n",
      " [4 3 8]\n",
      " [3 6 3]]\n",
      "[[4 7 3]\n",
      " [4 3 8]\n",
      " [3 6 3]]\n"
     ]
    }
   ],
   "source": [
    "array1 = np.random.randint(1, 9, size=(3, 3))\n",
    "array1.reshape(1, 9)\n",
    "print(array1)\n",
    "array1.reshape(9, 1)\n",
    "print(array1)"
   ]
  },
  {
   "cell_type": "markdown",
   "metadata": {},
   "source": [
    "2. Create a NumPy array of shape (5, 5) filled with random integers. Flatten the array and then reshape it back to (5, 5)."
   ]
  },
  {
   "cell_type": "code",
   "execution_count": 51,
   "metadata": {},
   "outputs": [
    {
     "name": "stdout",
     "output_type": "stream",
     "text": [
      "[8 6 6 1 1 5 7 6 5 8 4 8 6 5 1 3 6 3 8 8 8 6 4 4 6]\n",
      "[[8 6 6 1 1]\n",
      " [5 7 6 5 8]\n",
      " [4 8 6 5 1]\n",
      " [3 6 3 8 8]\n",
      " [8 6 4 4 6]]\n"
     ]
    }
   ],
   "source": [
    "array1 = np.random.randint(1, 9, size=(5, 5))\n",
    "flatten_array = array1.flatten()\n",
    "print(flatten_array)\n",
    "array1 = flatten_array.reshape((5, 5))\n",
    "print(array1)"
   ]
  },
  {
   "cell_type": "markdown",
   "metadata": {},
   "source": [
    "### Assignment 8: Fancy Indexing and Boolean Indexing\n",
    "\n",
    "1. Create a NumPy array of shape (5, 5) filled with random integers. Use fancy indexing to extract the elements at the corners of the array."
   ]
  },
  {
   "cell_type": "code",
   "execution_count": 53,
   "metadata": {},
   "outputs": [
    {
     "name": "stdout",
     "output_type": "stream",
     "text": [
      "[[1 8 5 1 2]\n",
      " [3 4 3 4 8]\n",
      " [4 8 6 7 3]\n",
      " [3 3 6 3 6]\n",
      " [1 3 8 4 3]]\n",
      "[1 2 1 3]\n"
     ]
    }
   ],
   "source": [
    "array1 = np.random.randint(1, 9, size=(5, 5))\n",
    "print(array1)\n",
    "corners = array1[[0, 0, -1, -1], [0, -1, 0, -1]] #take 1 value as row from first list and first value of 2 list as column\n",
    "print(corners)\n",
    "#fancy indexing means printing only corener elements"
   ]
  },
  {
   "cell_type": "markdown",
   "metadata": {},
   "source": [
    "2. Create a NumPy array of shape (4, 4) filled with random integers. Use boolean indexing to set all elements greater than 10 to 10."
   ]
  },
  {
   "cell_type": "code",
   "execution_count": 59,
   "metadata": {},
   "outputs": [
    {
     "name": "stdout",
     "output_type": "stream",
     "text": [
      "[[10 10 10  1]\n",
      " [10 10 10  8]\n",
      " [10 10  6 10]\n",
      " [10 10  1 10]]\n"
     ]
    }
   ],
   "source": [
    "array = np.random.randint(1, 21, size=(4, 4))\n",
    "array[array > 10] = 10\n",
    "print(array)"
   ]
  },
  {
   "cell_type": "markdown",
   "metadata": {},
   "source": [
    "### Assignment 9: Structured Arrays\n",
    "\n",
    "1. Create a structured array with fields 'name' (string), 'age' (integer), and 'weight' (float). Add some data and sort the array by age."
   ]
  },
  {
   "cell_type": "code",
   "execution_count": 3,
   "metadata": {},
   "outputs": [
    {
     "name": "stdout",
     "output_type": "stream",
     "text": [
      "Original Array:\n",
      " [('Alice', 25, 55.5) ('Bob', 30, 85.3) ('Charlie', 20, 65.2)]\n",
      "Sorted Array:\n",
      " [('Charlie', 20, 65.2) ('Alice', 25, 55.5) ('Bob', 30, 85.3)]\n"
     ]
    }
   ],
   "source": [
    "data_type = [('name', 'U10'), ('age', 'i4'), ('weight', 'f4')]\n",
    "data = np.array([('Alice', 25, 55.5), ('Bob', 30, 85.3), ('Charlie', 20, 65.2)], dtype=data_type)\n",
    "print(\"Original Array:\\n\", data)\n",
    "sorted_array = np.sort(data, order='age')\n",
    "print(\"Sorted Array:\\n\", sorted_array)"
   ]
  },
  {
   "cell_type": "markdown",
   "metadata": {},
   "source": [
    "2. Create a structured array with fields 'x' and 'y' (both integers). Add some data and compute the Euclidean distance between each pair of points."
   ]
  },
  {
   "cell_type": "code",
   "execution_count": 4,
   "metadata": {},
   "outputs": [
    {
     "name": "stdout",
     "output_type": "stream",
     "text": [
      "Euclidean Distance:\n",
      " [[0.         2.82842712 5.65685425]\n",
      " [2.82842712 0.         2.82842712]\n",
      " [5.65685425 2.82842712 0.        ]]\n"
     ]
    }
   ],
   "source": [
    "data_type = [('x', 'i4'), ('y', 'i4')]\n",
    "data = np.array([(1, 2), (3, 4), (5, 6)], dtype=data_type)\n",
    "distances = np.sqrt((data['x'][:, np.newaxis] - data['x'])**2 + (data['y'][:, np.newaxis] - data['y'])**2)\n",
    "print(\"Euclidean Distance:\\n\", distances)\n",
    "# d = √[(x2 – x1)2 + (y2 – y1)2]"
   ]
  },
  {
   "cell_type": "markdown",
   "metadata": {},
   "source": [
    "### Assignment 10: Masked Arrays\n",
    "\n",
    "1. Create a masked array of shape (4, 4) with random integers and mask the elements greater than 10. Compute the sum of the unmasked elements."
   ]
  },
  {
   "cell_type": "code",
   "execution_count": 10,
   "metadata": {},
   "outputs": [
    {
     "name": "stdout",
     "output_type": "stream",
     "text": [
      "Original Array:\n",
      " [[13 14 17 15]\n",
      " [ 8 18 12  5]\n",
      " [15 13 13  1]\n",
      " [13  9 14 11]]\n",
      "Masked Array:\n",
      " [[-- -- -- --]\n",
      " [8 -- -- 5]\n",
      " [-- -- -- 1]\n",
      " [-- 9 -- --]]\n",
      "Sum of Unmasked Array:\n",
      " 23\n"
     ]
    }
   ],
   "source": [
    "import numpy.ma as ma\n",
    "\n",
    "array = np.random.randint(1, 21, size=(4, 4))\n",
    "masked_array = ma.masked_greater(array, 10)\n",
    "print(\"Original Array:\\n\", array)\n",
    "print(\"Masked Array:\\n\", masked_array)\n",
    "sum_unmasked = masked_array.sum()\n",
    "print(\"Sum of Unmasked Array:\\n\", sum_unmasked)"
   ]
  },
  {
   "cell_type": "markdown",
   "metadata": {},
   "source": [
    "2. Create a masked array of shape (3, 3) with random integers and mask the diagonal elements. Replace the masked elements with the mean of the unmasked elements."
   ]
  },
  {
   "cell_type": "code",
   "execution_count": 16,
   "metadata": {},
   "outputs": [
    {
     "name": "stdout",
     "output_type": "stream",
     "text": [
      "[[-- 6 16]\n",
      " [19 -- 5]\n",
      " [1 6 --]]\n",
      "masked_array:\n",
      " [[ 8  6 16]\n",
      " [19  8  5]\n",
      " [ 1  6  8]]\n"
     ]
    }
   ],
   "source": [
    "import numpy.ma as ma\n",
    "array = np.random.randint(1, 21, size=(3, 3))\n",
    "masked_array = ma.masked_array(array, mask=np.eye(3, dtype=bool))\n",
    "print(masked_array)\n",
    "\n",
    "mean_masked = masked_array.mean()\n",
    "masked_array = masked_array.filled(mean_masked)\n",
    "print(\"masked_array:\\n\", masked_array)"
   ]
  },
  {
   "cell_type": "code",
   "execution_count": null,
   "metadata": {},
   "outputs": [],
   "source": []
  }
 ],
 "metadata": {
  "kernelspec": {
   "display_name": "Python 3",
   "language": "python",
   "name": "python3"
  },
  "language_info": {
   "codemirror_mode": {
    "name": "ipython",
    "version": 3
   },
   "file_extension": ".py",
   "mimetype": "text/x-python",
   "name": "python",
   "nbconvert_exporter": "python",
   "pygments_lexer": "ipython3",
   "version": "3.12.4"
  }
 },
 "nbformat": 4,
 "nbformat_minor": 2
}
