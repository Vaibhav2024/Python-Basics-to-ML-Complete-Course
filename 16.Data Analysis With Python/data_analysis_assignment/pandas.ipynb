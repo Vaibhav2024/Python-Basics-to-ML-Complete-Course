{
 "cells": [
  {
   "cell_type": "markdown",
   "metadata": {},
   "source": [
    "# Module: Pandas Assignments\n",
    "## Lesson: Pandas\n",
    "### Assignment 1: DataFrame Creation and Indexing\n",
    "\n",
    "1. Create a Pandas DataFrame with 4 columns and 6 rows filled with random integers. Set the index to be the first column."
   ]
  },
  {
   "cell_type": "code",
   "execution_count": 23,
   "metadata": {},
   "outputs": [
    {
     "name": "stdout",
     "output_type": "stream",
     "text": [
      "    A   B   C   D\n",
      "A  13   6   5   4\n",
      "B   4  12   9   7\n",
      "C   6   5   8   3\n",
      "D  15   3   8  11\n",
      "E  15   2  19   9\n",
      "F  13   5  18  16\n",
      "Accessing Single element 13\n"
     ]
    },
    {
     "data": {
      "text/html": [
       "<div>\n",
       "<style scoped>\n",
       "    .dataframe tbody tr th:only-of-type {\n",
       "        vertical-align: middle;\n",
       "    }\n",
       "\n",
       "    .dataframe tbody tr th {\n",
       "        vertical-align: top;\n",
       "    }\n",
       "\n",
       "    .dataframe thead th {\n",
       "        text-align: right;\n",
       "    }\n",
       "</style>\n",
       "<table border=\"1\" class=\"dataframe\">\n",
       "  <thead>\n",
       "    <tr style=\"text-align: right;\">\n",
       "      <th></th>\n",
       "      <th>B</th>\n",
       "      <th>C</th>\n",
       "      <th>D</th>\n",
       "    </tr>\n",
       "    <tr>\n",
       "      <th>A</th>\n",
       "      <th></th>\n",
       "      <th></th>\n",
       "      <th></th>\n",
       "    </tr>\n",
       "  </thead>\n",
       "  <tbody>\n",
       "    <tr>\n",
       "      <th>13</th>\n",
       "      <td>6</td>\n",
       "      <td>5</td>\n",
       "      <td>4</td>\n",
       "    </tr>\n",
       "    <tr>\n",
       "      <th>4</th>\n",
       "      <td>12</td>\n",
       "      <td>9</td>\n",
       "      <td>7</td>\n",
       "    </tr>\n",
       "    <tr>\n",
       "      <th>6</th>\n",
       "      <td>5</td>\n",
       "      <td>8</td>\n",
       "      <td>3</td>\n",
       "    </tr>\n",
       "    <tr>\n",
       "      <th>15</th>\n",
       "      <td>3</td>\n",
       "      <td>8</td>\n",
       "      <td>11</td>\n",
       "    </tr>\n",
       "    <tr>\n",
       "      <th>15</th>\n",
       "      <td>2</td>\n",
       "      <td>19</td>\n",
       "      <td>9</td>\n",
       "    </tr>\n",
       "    <tr>\n",
       "      <th>13</th>\n",
       "      <td>5</td>\n",
       "      <td>18</td>\n",
       "      <td>16</td>\n",
       "    </tr>\n",
       "  </tbody>\n",
       "</table>\n",
       "</div>"
      ],
      "text/plain": [
       "     B   C   D\n",
       "A             \n",
       "13   6   5   4\n",
       "4   12   9   7\n",
       "6    5   8   3\n",
       "15   3   8  11\n",
       "15   2  19   9\n",
       "13   5  18  16"
      ]
     },
     "execution_count": 23,
     "metadata": {},
     "output_type": "execute_result"
    }
   ],
   "source": [
    "import pandas as pd\n",
    "import numpy as np\n",
    "df1 = pd.DataFrame(np.random.randint(1, 21, size=(6, 4)), \\\n",
    "    columns=['A', 'B', 'C', 'D'], index=['A', 'B', 'C', 'D', 'E', 'F'])\n",
    "print(df1)\n",
    "print(\"Accessing Single element\", df1.loc['A']['A'])\n",
    "df1.set_index('A', inplace=True) # removes row index\n",
    "df1"
   ]
  },
  {
   "cell_type": "markdown",
   "metadata": {},
   "source": [
    "2. Create a Pandas DataFrame with columns 'A', 'B', 'C' and index 'X', 'Y', 'Z'. Fill the DataFrame with random integers and access the element at row 'Y' and column 'B'."
   ]
  },
  {
   "cell_type": "code",
   "execution_count": 30,
   "metadata": {},
   "outputs": [
    {
     "name": "stdout",
     "output_type": "stream",
     "text": [
      "20\n"
     ]
    }
   ],
   "source": [
    "df1 = pd.DataFrame(np.random.randint(1, 21, size=(3, 3)), columns=['A', 'B', 'C'], index=['X', 'Y', 'Z'])\n",
    "print(df1.loc['Y']['B'])"
   ]
  },
  {
   "cell_type": "markdown",
   "metadata": {},
   "source": [
    "### Assignment 2: DataFrame Operations\n",
    "\n",
    "1. Create a Pandas DataFrame with 3 columns and 5 rows filled with random integers. Add a new column that is the product of the first two columns."
   ]
  },
  {
   "cell_type": "code",
   "execution_count": 38,
   "metadata": {},
   "outputs": [
    {
     "name": "stdout",
     "output_type": "stream",
     "text": [
      "New DF column with first 2 column product:\n",
      "     A   B   C    D\n",
      "0  11   7  10   77\n",
      "1   8   7   7   56\n",
      "2  16  20   2  320\n",
      "3  13  14  20  182\n",
      "4   4  16   6   64\n"
     ]
    }
   ],
   "source": [
    "df1 = pd.DataFrame(np.random.randint(1, 21, size=(5, 3)), columns=['A', 'B', 'C'])\n",
    "df1['D'] = df1['A'] * df1['B']\n",
    "print(\"New DF column with first 2 column product:\\n\", df1)"
   ]
  },
  {
   "cell_type": "markdown",
   "metadata": {},
   "source": [
    "2. Create a Pandas DataFrame with 3 columns and 4 rows filled with random integers. Compute the row-wise and column-wise sum."
   ]
  },
  {
   "cell_type": "code",
   "execution_count": 44,
   "metadata": {},
   "outputs": [
    {
     "name": "stdout",
     "output_type": "stream",
     "text": [
      "0    38\n",
      "1    42\n",
      "2    30\n",
      "3    34\n",
      "dtype: int64\n",
      "A    54\n",
      "B    40\n",
      "C    50\n",
      "dtype: int64\n"
     ]
    }
   ],
   "source": [
    "df1 = pd.DataFrame(np.random.randint(1, 21, size=(4, 3)), columns=['A', 'B', 'C'])\n",
    "row_sum = df1.sum(axis=1)\n",
    "column_sum = df1.sum(axis=0)\n",
    "print(row_sum)\n",
    "print(column_sum)"
   ]
  },
  {
   "cell_type": "markdown",
   "metadata": {},
   "source": [
    "### Assignment 3: Data Cleaning\n",
    "\n",
    "1. Create a Pandas DataFrame with 3 columns and 5 rows filled with random integers. Introduce some NaN values. Fill the NaN values with the mean of the respective columns."
   ]
  },
  {
   "cell_type": "code",
   "execution_count": 49,
   "metadata": {},
   "outputs": [
    {
     "name": "stdout",
     "output_type": "stream",
     "text": [
      "Original DataFrame:\n",
      "     A   B   C\n",
      "0  18   1   8\n",
      "1  14  15  18\n",
      "2  19  10  17\n",
      "3   1  20   7\n",
      "4   1  17  15\n",
      "DataFrame with NaN values:\n",
      "      A     B     C\n",
      "0  18.0   NaN   8.0\n",
      "1  14.0  15.0  18.0\n",
      "2  19.0  10.0   NaN\n",
      "3   1.0  20.0   7.0\n",
      "4   NaN  17.0  15.0\n",
      "DataFrame with NaN values filled:\n",
      "      A     B     C\n",
      "0  18.0  15.5   8.0\n",
      "1  14.0  15.0  18.0\n",
      "2  19.0  10.0  12.0\n",
      "3   1.0  20.0   7.0\n",
      "4  13.0  17.0  15.0\n"
     ]
    }
   ],
   "source": [
    "df1 = pd.DataFrame(np.random.randint(1, 21, size=(5, 3)), columns=['A', 'B', 'C'])\n",
    "print(\"Original DataFrame:\\n\", df1)\n",
    "\n",
    "df1.iloc[0, 1] = np.nan\n",
    "df1.iloc[2, 2] = np.nan\n",
    "df1.iloc[4, 0] = np.nan\n",
    "print(\"DataFrame with NaN values:\")\n",
    "print(df1)\n",
    "\n",
    "df1.fillna(df1.mean(), inplace=True)\n",
    "print(\"DataFrame with NaN values filled:\")\n",
    "print(df1)"
   ]
  },
  {
   "cell_type": "markdown",
   "metadata": {},
   "source": [
    "2. Create a Pandas DataFrame with 4 columns and 6 rows filled with random integers. Introduce some NaN values. Drop the rows with any NaN values."
   ]
  },
  {
   "cell_type": "code",
   "execution_count": 53,
   "metadata": {},
   "outputs": [
    {
     "name": "stdout",
     "output_type": "stream",
     "text": [
      "      A    B     C   D\n",
      "1  14.0  6.0   5.0   2\n",
      "3   5.0  4.0   6.0  10\n",
      "5   2.0  6.0  10.0  11\n"
     ]
    }
   ],
   "source": [
    "df1 = pd.DataFrame(np.random.randint(1, 21, size=(6, 4)), columns=['A', 'B', 'C', 'D'])\n",
    "df1.iloc[0, 1] = np.nan\n",
    "df1.iloc[2, 2] = np.nan\n",
    "df1.iloc[4, 0] = np.nan\n",
    "df1.dropna(inplace=True)\n",
    "print(df1)"
   ]
  },
  {
   "cell_type": "markdown",
   "metadata": {},
   "source": [
    "### Assignment 4: Data Aggregation\n",
    "\n",
    "1. Create a Pandas DataFrame with 2 columns: 'Category' and 'Value'. Fill the 'Category' column with random categories ('A', 'B', 'C') and the 'Value' column with random integers. Group the DataFrame by 'Category' and compute the sum and mean of 'Value' for each category."
   ]
  },
  {
   "cell_type": "code",
   "execution_count": 57,
   "metadata": {},
   "outputs": [
    {
     "name": "stdout",
     "output_type": "stream",
     "text": [
      "               mean  sum\n",
      "Category                \n",
      "A         11.833333   71\n",
      "B         11.000000   11\n",
      "C         10.333333   31\n"
     ]
    }
   ],
   "source": [
    "df2 = pd.DataFrame({'Category': np.random.choice(['A', 'B', 'C'], size=10),\\\n",
    "                    'Value': np.random.randint(1, 21, size=10)})\n",
    "df3 = df2.groupby('Category')['Value'].agg(['mean', 'sum'])\n",
    "print(df3)\n"
   ]
  },
  {
   "cell_type": "markdown",
   "metadata": {},
   "source": [
    "2. Create a Pandas DataFrame with 3 columns: 'Product', 'Category', and 'Sales'. Fill the DataFrame with random data. Group the DataFrame by 'Category' and compute the total sales for each category."
   ]
  },
  {
   "cell_type": "code",
   "execution_count": 59,
   "metadata": {},
   "outputs": [
    {
     "name": "stdout",
     "output_type": "stream",
     "text": [
      "Original DataFrame:     Product Category  Sales\n",
      "0  Product3        B    647\n",
      "1  Product1        C    663\n",
      "2  Product1        B    119\n",
      "3  Product1        B    879\n",
      "4  Product3        A    794\n",
      "5  Product2        C    448\n",
      "6  Product2        B    336\n",
      "7  Product1        A    522\n",
      "8  Product1        B    383\n",
      "9  Product1        B    715\n",
      "Category\n",
      "A    1316\n",
      "B    3079\n",
      "C    1111\n",
      "Name: Sales, dtype: int32\n"
     ]
    }
   ],
   "source": [
    "df1 = pd.DataFrame({\"Product\": np.random.choice(['Product1', 'Product2', 'Product3'], size= 10), \"Category\": np.random.choice(['A', 'B', 'C'], size=10), \"Sales\": np.random.randint(100, 1000, size=10)})\n",
    "print(\"Original DataFrame:\", df1)\n",
    "df2 = df1.groupby('Category')['Sales'].sum()\n",
    "print(df2)"
   ]
  },
  {
   "cell_type": "markdown",
   "metadata": {},
   "source": [
    "### Assignment 5: Merging DataFrames\n",
    "\n",
    "1. Create two Pandas DataFrames with a common column. Merge the DataFrames using the common column."
   ]
  },
  {
   "cell_type": "code",
   "execution_count": 63,
   "metadata": {},
   "outputs": [
    {
     "name": "stdout",
     "output_type": "stream",
     "text": [
      "  Key  Values_x  Values_y\n",
      "0   A        10         2\n",
      "1   B        96        63\n",
      "2   C        24        34\n",
      "3   D        83        81\n"
     ]
    }
   ],
   "source": [
    "df1 = pd.DataFrame({'Key': ['A', 'B', 'C', 'D'], 'Values': np.random.randint(1, 100, size=4)})\n",
    "df2 = pd.DataFrame({'Key': ['A', 'B', 'C', 'D'], 'Values': np.random.randint(1, 100, size=4)})\n",
    "merged_df = pd.merge(df1, df2, on=\"Key\")\n",
    "print(merged_df)"
   ]
  },
  {
   "cell_type": "markdown",
   "metadata": {},
   "source": [
    "2. Create two Pandas DataFrames with different columns. Concatenate the DataFrames along the rows and along the columns."
   ]
  },
  {
   "cell_type": "code",
   "execution_count": 66,
   "metadata": {},
   "outputs": [
    {
     "name": "stdout",
     "output_type": "stream",
     "text": [
      "Row:\n",
      "     A   B   C   D\n",
      "0  40  49  12  67\n",
      "1  16  45  53  74\n",
      "2  73  82  21  13\n",
      "Column:\n",
      "       A     B     C     D\n",
      "0  40.0  49.0   NaN   NaN\n",
      "1  16.0  45.0   NaN   NaN\n",
      "2  73.0  82.0   NaN   NaN\n",
      "0   NaN   NaN  12.0  67.0\n",
      "1   NaN   NaN  53.0  74.0\n",
      "2   NaN   NaN  21.0  13.0\n"
     ]
    }
   ],
   "source": [
    "df1 = pd.DataFrame({'A': np.random.randint(1, 100, size=3), 'B': np.random.randint(1, 100, size=3)})\n",
    "df2 = pd.DataFrame({'C': np.random.randint(1, 100, size=3), 'D': np.random.randint(1, 100, size=3)})\n",
    "row_concat = pd.concat([df1, df2], axis=1)\n",
    "column_concat = pd.concat([df1, df2], axis=0)\n",
    "print(\"Row:\\n\", row_concat)\n",
    "print(\"Column:\\n\", column_concat)\n"
   ]
  },
  {
   "cell_type": "markdown",
   "metadata": {},
   "source": [
    "### Assignment 6: Time Series Analysis\n",
    "\n",
    "1. Create a Pandas DataFrame with a datetime index and one column filled with random integers. Resample the DataFrame to compute the monthly mean of the values."
   ]
  },
  {
   "cell_type": "code",
   "execution_count": 79,
   "metadata": {},
   "outputs": [
    {
     "name": "stdout",
     "output_type": "stream",
     "text": [
      "            data\n",
      "date            \n",
      "2022-01-01    29\n",
      "2022-01-02    15\n",
      "2022-01-03    74\n",
      "2022-01-04     8\n",
      "2022-01-05    81\n",
      "...          ...\n",
      "2022-12-27    87\n",
      "2022-12-28    92\n",
      "2022-12-29    71\n",
      "2022-12-30     7\n",
      "2022-12-31    37\n",
      "\n",
      "[365 rows x 1 columns]\n",
      "                 data\n",
      "date                 \n",
      "2022-01-31  52.161290\n",
      "2022-02-28  45.464286\n",
      "2022-03-31  52.387097\n",
      "2022-04-30  47.466667\n",
      "2022-05-31  46.645161\n",
      "2022-06-30  49.666667\n",
      "2022-07-31  48.161290\n",
      "2022-08-31  54.903226\n",
      "2022-09-30  51.066667\n",
      "2022-10-31  43.935484\n",
      "2022-11-30  42.433333\n",
      "2022-12-31  55.935484\n"
     ]
    },
    {
     "name": "stderr",
     "output_type": "stream",
     "text": [
      "C:\\Users\\patil\\AppData\\Local\\Temp\\ipykernel_3820\\2732757944.py:7: FutureWarning: 'M' is deprecated and will be removed in a future version, please use 'ME' instead.\n",
      "  monthly_mean = df.resample('M').mean()  #'M' means month\n"
     ]
    }
   ],
   "source": [
    "date_range = pd.date_range(start='2022-01-01', end='2022-12-31', freq='D')\n",
    "df = pd.DataFrame(date_range, columns=['date'])\n",
    "df['data'] = np.random.randint(0, 100, size=(len(date_range)))\n",
    "df.set_index('date', inplace=True)\n",
    "print(df)\n",
    "\n",
    "monthly_mean = df.resample('M').mean()  #'M' means month\n",
    "print(monthly_mean)\n"
   ]
  },
  {
   "cell_type": "markdown",
   "metadata": {},
   "source": [
    "2. Create a Pandas DataFrame with a datetime index ranging from '2021-01-01' to '2021-12-31' and one column filled with random integers. Compute the rolling mean with a window of 7 days."
   ]
  },
  {
   "cell_type": "code",
   "execution_count": 81,
   "metadata": {},
   "outputs": [
    {
     "name": "stdout",
     "output_type": "stream",
     "text": [
      "            data\n",
      "date            \n",
      "2022-01-01    35\n",
      "2022-01-02    98\n",
      "2022-01-03    62\n",
      "2022-01-04    52\n",
      "2022-01-05    78\n",
      "...          ...\n",
      "2022-12-27    87\n",
      "2022-12-28    24\n",
      "2022-12-29    40\n",
      "2022-12-30    71\n",
      "2022-12-31    73\n",
      "\n",
      "[365 rows x 1 columns]\n",
      "                 data\n",
      "date                 \n",
      "2022-01-01        NaN\n",
      "2022-01-02        NaN\n",
      "2022-01-03        NaN\n",
      "2022-01-04        NaN\n",
      "2022-01-05        NaN\n",
      "...               ...\n",
      "2022-12-27  66.428571\n",
      "2022-12-28  67.142857\n",
      "2022-12-29  66.000000\n",
      "2022-12-30  67.571429\n",
      "2022-12-31  69.000000\n",
      "\n",
      "[365 rows x 1 columns]\n"
     ]
    }
   ],
   "source": [
    "data_range = pd.date_range(start='2022-01-01', end=\"2022-12-31\", freq='D')\n",
    "df = pd.DataFrame(data_range, columns=['date'])\n",
    "df['data'] = np.random.randint(0, 100, size=(len(data_range)))\n",
    "df.set_index('date', inplace=True)\n",
    "print(df)\n",
    "\n",
    "rolling_mean = df.rolling(window=7).mean()\n",
    "print(rolling_mean)"
   ]
  },
  {
   "cell_type": "code",
   "execution_count": 88,
   "metadata": {},
   "outputs": [
    {
     "name": "stdout",
     "output_type": "stream",
     "text": [
      "                      Value1  Value2  Value3\n",
      "Category SubCategory                        \n",
      "A        one              39      50      20\n",
      "         two              96      56      48\n",
      "B        one              77      55      56\n",
      "         two              18      73      13\n",
      "Indexing at Category 'A':\n",
      "             Value1  Value2  Value3\n",
      "SubCategory                        \n",
      "one              39      50      20\n",
      "two              96      56      48\n",
      "Slicing at Category 'B' and SubCategory 'two':\n",
      "Value1    18\n",
      "Value2    73\n",
      "Value3    13\n",
      "Name: (B, two), dtype: int32\n"
     ]
    }
   ],
   "source": [
    "arrays = [['A', 'A', 'B', 'B'], ['one', 'two', 'one', 'two']]\n",
    "index = pd.MultiIndex.from_arrays(arrays, names=('Category', 'SubCategory'))\n",
    "df = pd.DataFrame(np.random.randint(1, 100, size=(4, 3)), index=index, columns=['Value1', 'Value2', 'Value3'])\n",
    "print(df)\n",
    "\n",
    "print(\"Indexing at Category 'A':\")\n",
    "print(df.loc['A'])\n",
    "\n",
    "print(\"Slicing at Category 'B' and SubCategory 'two':\")\n",
    "print(df.loc[('B', 'two')])"
   ]
  },
  {
   "cell_type": "markdown",
   "metadata": {},
   "source": [
    "2. Create a Pandas DataFrame with MultiIndex consisting of 'Category' and 'SubCategory'. Fill the DataFrame with random data and compute the sum of values for each 'Category' and 'SubCategory'."
   ]
  },
  {
   "cell_type": "code",
   "execution_count": 94,
   "metadata": {},
   "outputs": [
    {
     "name": "stdout",
     "output_type": "stream",
     "text": [
      "                      Value1  Value2  Value3\n",
      "Category Subcategory                        \n",
      "A        one              32      66      56\n",
      "         two              40      55       3\n",
      "B        one               8      63      86\n",
      "         two              37       6      58\n",
      "                      Value1  Value2  Value3\n",
      "Category Subcategory                        \n",
      "A        one              32      66      56\n",
      "         two              40      55       3\n",
      "B        one               8      63      86\n",
      "         two              37       6      58\n"
     ]
    }
   ],
   "source": [
    "arrays = (['A', 'A', 'B', 'B'], ['one', 'two', 'one', 'two'])\n",
    "index = pd.MultiIndex.from_arrays(arrays, names=(\"Category\", \"Subcategory\"))\n",
    "df = pd.DataFrame(np.random.randint(1, 100, size=(4, 3)), index=index, columns=['Value1', 'Value2', 'Value3'])\n",
    "print(df)\n",
    "\n",
    "sum_values = df.groupby(['Category', 'Subcategory'])[['Value1', 'Value2', 'Value3']].sum()\n",
    "print(sum_values)"
   ]
  },
  {
   "cell_type": "markdown",
   "metadata": {},
   "source": [
    "### Assignment 8: Pivot Tables\n",
    "\n",
    "1. Create a Pandas DataFrame with columns 'Date', 'Category', and 'Value'. Create a pivot table to compute the sum of 'Value' for each 'Category' by 'Date'."
   ]
  },
  {
   "cell_type": "code",
   "execution_count": 98,
   "metadata": {},
   "outputs": [
    {
     "name": "stdout",
     "output_type": "stream",
     "text": [
      "         Date Category  Value\n",
      "0  2022-12-14        C     22\n",
      "1  2022-12-09        A     10\n",
      "2  2022-08-08        B     21\n",
      "3  2022-11-28        A     72\n",
      "4  2022-02-05        A     39\n",
      "5  2022-09-08        A     77\n",
      "6  2022-10-29        B     79\n",
      "7  2022-11-28        A     73\n",
      "8  2022-12-17        C     77\n",
      "9  2022-02-01        C     70\n",
      "10 2022-10-09        C     67\n",
      "11 2022-05-18        B     13\n",
      "12 2022-10-25        C     26\n",
      "13 2022-06-29        C     15\n",
      "14 2022-07-13        C     49\n",
      "15 2022-04-12        C     91\n",
      "16 2022-02-01        C     16\n",
      "17 2022-11-13        B     33\n",
      "18 2022-03-19        C     91\n",
      "19 2022-08-22        B     33\n",
      "Category        A     B     C\n",
      "Date                         \n",
      "2022-02-01    NaN   NaN  86.0\n",
      "2022-02-05   39.0   NaN   NaN\n",
      "2022-03-19    NaN   NaN  91.0\n",
      "2022-04-12    NaN   NaN  91.0\n",
      "2022-05-18    NaN  13.0   NaN\n",
      "2022-06-29    NaN   NaN  15.0\n",
      "2022-07-13    NaN   NaN  49.0\n",
      "2022-08-08    NaN  21.0   NaN\n",
      "2022-08-22    NaN  33.0   NaN\n",
      "2022-09-08   77.0   NaN   NaN\n",
      "2022-10-09    NaN   NaN  67.0\n",
      "2022-10-25    NaN   NaN  26.0\n",
      "2022-10-29    NaN  79.0   NaN\n",
      "2022-11-13    NaN  33.0   NaN\n",
      "2022-11-28  145.0   NaN   NaN\n",
      "2022-12-09   10.0   NaN   NaN\n",
      "2022-12-14    NaN   NaN  22.0\n",
      "2022-12-17    NaN   NaN  77.0\n"
     ]
    },
    {
     "name": "stderr",
     "output_type": "stream",
     "text": [
      "C:\\Users\\patil\\AppData\\Local\\Temp\\ipykernel_3820\\1697875281.py:5: FutureWarning: The provided callable <built-in function sum> is currently using DataFrameGroupBy.sum. In a future version of pandas, the provided callable will be used directly. To keep current behavior pass the string \"sum\" instead.\n",
      "  pivot_table = df.pivot_table(values='Value', index='Date', columns='Category', aggfunc=sum)\n"
     ]
    }
   ],
   "source": [
    "date_range = pd.date_range(start='2022-01-01', end='2022-12-31', freq='D')\n",
    "df = pd.DataFrame({\"Date\": np.random.choice(data_range, size=20), 'Category': np.random.choice(['A', 'B', 'C'], size=20), \"Value\": np.random.randint(1, 100, size=20)})\n",
    "print(df)\n",
    "\n",
    "pivot_table = df.pivot_table(values='Value', index='Date', columns='Category', aggfunc=sum)\n",
    "print(pivot_table)"
   ]
  },
  {
   "cell_type": "markdown",
   "metadata": {},
   "source": [
    "2. Create a Pandas DataFrame with columns 'Year', 'Quarter', and 'Revenue'. Create a pivot table to compute the mean 'Revenue' for each 'Quarter' by 'Year'."
   ]
  },
  {
   "cell_type": "code",
   "execution_count": 99,
   "metadata": {},
   "outputs": [
    {
     "name": "stdout",
     "output_type": "stream",
     "text": [
      "Quarter     Q1     Q2     Q3     Q4\n",
      "Year                               \n",
      "2020       NaN  228.0    NaN  407.0\n",
      "2021     581.5    NaN    NaN  261.0\n",
      "2022      76.0  665.5  220.0    NaN\n"
     ]
    }
   ],
   "source": [
    "df = pd.DataFrame({'Year': np.random.choice([2020, 2021, 2022], size=12), 'Quarter': np.random.choice(['Q1', 'Q2', 'Q3', 'Q4'], size=12), 'Revenue': np.random.randint(1, 1000, size=12)})\n",
    "\n",
    "pivot_table = df.pivot_table(values='Revenue', index='Year', columns='Quarter', aggfunc='mean')\n",
    "print(pivot_table)"
   ]
  },
  {
   "cell_type": "markdown",
   "metadata": {},
   "source": [
    "### Assignment 9: Applying Functions\n",
    "\n",
    "1. Create a Pandas DataFrame with 3 columns and 5 rows filled with random integers. Apply a function that doubles the values of the DataFrame."
   ]
  },
  {
   "cell_type": "code",
   "execution_count": 100,
   "metadata": {},
   "outputs": [
    {
     "name": "stdout",
     "output_type": "stream",
     "text": [
      "Original DataFrame:\n",
      "    A   B   C\n",
      "0  56  36  48\n",
      "1  73   4  58\n",
      "2  30  68  89\n",
      "3  79  97   2\n",
      "4   3  94  46\n",
      "Doubled DataFrame:\n",
      "     A    B    C\n",
      "0  112   72   96\n",
      "1  146    8  116\n",
      "2   60  136  178\n",
      "3  158  194    4\n",
      "4    6  188   92\n"
     ]
    }
   ],
   "source": [
    "# Create a Pandas DataFrame with 3 columns and 5 rows filled with random integers\n",
    "df = pd.DataFrame(np.random.randint(1, 100, size=(5, 3)), columns=['A', 'B', 'C'])\n",
    "print(\"Original DataFrame:\")\n",
    "print(df)\n",
    "\n",
    "# Apply a function that doubles the values of the DataFrame\n",
    "df_doubled = df.apply(lambda x: x * 2)\n",
    "print(\"Doubled DataFrame:\")\n",
    "print(df_doubled)"
   ]
  },
  {
   "cell_type": "markdown",
   "metadata": {},
   "source": [
    "2. Create a Pandas DataFrame with 3 columns and 6 rows filled with random integers. Apply a lambda function to create a new column that is the sum of the existing columns."
   ]
  },
  {
   "cell_type": "code",
   "execution_count": 101,
   "metadata": {},
   "outputs": [
    {
     "name": "stdout",
     "output_type": "stream",
     "text": [
      "Original DataFrame:\n",
      "    A   B   C\n",
      "0  24  14  76\n",
      "1   9  31  43\n",
      "2  51  40  67\n",
      "3  20  43   9\n",
      "4  80  13  45\n",
      "5  80  78  58\n",
      "    A   B   C  sum\n",
      "0  24  14  76  114\n",
      "1   9  31  43   83\n",
      "2  51  40  67  158\n",
      "3  20  43   9   72\n",
      "4  80  13  45  138\n",
      "5  80  78  58  216\n"
     ]
    }
   ],
   "source": [
    "df = pd.DataFrame(np.random.randint(1, 100, size=(6, 3)), columns=['A', 'B', 'C'])\n",
    "print(\"Original DataFrame:\")\n",
    "print(df)\n",
    "\n",
    "df['sum'] = df.apply(lambda row: row.sum(), axis=1)\n",
    "print(df)"
   ]
  },
  {
   "cell_type": "markdown",
   "metadata": {},
   "source": [
    "### Assignment 10: Working with Text Data\n",
    "\n",
    "1. Create a Pandas Series with 5 random text strings. Convert all the strings to uppercase."
   ]
  },
  {
   "cell_type": "code",
   "execution_count": 102,
   "metadata": {},
   "outputs": [
    {
     "name": "stdout",
     "output_type": "stream",
     "text": [
      "Original Series:\n",
      "0         apple\n",
      "1        banana\n",
      "2        cherry\n",
      "3          date\n",
      "4    elderberry\n",
      "dtype: object\n",
      "Uppercase Series:\n",
      "0         APPLE\n",
      "1        BANANA\n",
      "2        CHERRY\n",
      "3          DATE\n",
      "4    ELDERBERRY\n",
      "dtype: object\n"
     ]
    }
   ],
   "source": [
    "text_data = pd.Series(['apple', 'banana', 'cherry', 'date', 'elderberry'])\n",
    "print(\"Original Series:\")\n",
    "print(text_data)\n",
    "\n",
    "# Convert all the strings to uppercase\n",
    "uppercase_data = text_data.str.upper()\n",
    "print(\"Uppercase Series:\")\n",
    "print(uppercase_data)"
   ]
  },
  {
   "cell_type": "markdown",
   "metadata": {},
   "source": [
    "2. Create a Pandas Series with 5 random text strings. Extract the first three characters of each string."
   ]
  },
  {
   "cell_type": "code",
   "execution_count": 103,
   "metadata": {},
   "outputs": [
    {
     "name": "stdout",
     "output_type": "stream",
     "text": [
      "Original Series:\n",
      "0         apple\n",
      "1        banana\n",
      "2        cherry\n",
      "3          date\n",
      "4    elderberry\n",
      "dtype: object\n",
      "First three characters:\n",
      "0    app\n",
      "1    ban\n",
      "2    che\n",
      "3    dat\n",
      "4    eld\n",
      "dtype: object\n"
     ]
    }
   ],
   "source": [
    "# Create a Pandas Series with 5 random text strings\n",
    "text_data = pd.Series(['apple', 'banana', 'cherry', 'date', 'elderberry'])\n",
    "print(\"Original Series:\")\n",
    "print(text_data)\n",
    "\n",
    "# Extract the first three characters of each string\n",
    "first_three_chars = text_data.str[:3]\n",
    "print(\"First three characters:\")\n",
    "print(first_three_chars)"
   ]
  },
  {
   "cell_type": "code",
   "execution_count": null,
   "metadata": {},
   "outputs": [],
   "source": []
  }
 ],
 "metadata": {
  "kernelspec": {
   "display_name": "Python 3",
   "language": "python",
   "name": "python3"
  },
  "language_info": {
   "codemirror_mode": {
    "name": "ipython",
    "version": 3
   },
   "file_extension": ".py",
   "mimetype": "text/x-python",
   "name": "python",
   "nbconvert_exporter": "python",
   "pygments_lexer": "ipython3",
   "version": "3.12.4"
  }
 },
 "nbformat": 4,
 "nbformat_minor": 2
}
