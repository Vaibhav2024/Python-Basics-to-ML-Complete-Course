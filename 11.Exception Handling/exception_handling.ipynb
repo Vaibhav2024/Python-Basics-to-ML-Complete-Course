{
 "cells": [
  {
   "cell_type": "markdown",
   "metadata": {},
   "source": [
    "# Module: Exception Handling Assignments\n",
    "## Lesson: Exception Handling with try, except, and finally\n",
    "### Assignment 1: Handling Division by Zero\n",
    "\n",
    "Write a function that takes two integers as input and returns their division. Use try, except, and finally blocks to handle division by zero and print an appropriate message."
   ]
  },
  {
   "cell_type": "code",
   "execution_count": 9,
   "metadata": {},
   "outputs": [
    {
     "name": "stdout",
     "output_type": "stream",
     "text": [
      "2.0\n",
      "Process Completed\n",
      "Canot Divide by zero\n",
      "Process Completed\n"
     ]
    }
   ],
   "source": [
    "def divide(a, b):\n",
    "    try:\n",
    "        result = a/b\n",
    "    except ZeroDivisionError as ze:\n",
    "        print(\"Canot Divide by zero\")\n",
    "    else:\n",
    "        print(result)\n",
    "    finally:\n",
    "        print(\"Process Completed\")\n",
    "divide(10, 5)\n",
    "divide(10, 0)\n"
   ]
  },
  {
   "cell_type": "markdown",
   "metadata": {},
   "source": [
    "### Assignment 2: File Reading with Exception Handling\n",
    "\n",
    "Write a function that reads the contents of a file named `data.txt`. Use try, except, and finally blocks to handle file not found errors and ensure the file is properly closed."
   ]
  },
  {
   "cell_type": "code",
   "execution_count": 16,
   "metadata": {},
   "outputs": [
    {
     "name": "stdout",
     "output_type": "stream",
     "text": [
      "No Such A file exist\n"
     ]
    }
   ],
   "source": [
    "def read_file(filename):\n",
    "    try:\n",
    "        file = open(filename, 'r')\n",
    "        reading = file.read()\n",
    "        print(reading)\n",
    "    except FileNotFoundError as fe:\n",
    "        print(\"No Such A file exist\")\n",
    "    finally:\n",
    "        try:\n",
    "            file.close()\n",
    "        except:\n",
    "            pass\n",
    "\n",
    "read_file('data.txt')"
   ]
  },
  {
   "cell_type": "markdown",
   "metadata": {},
   "source": [
    "### Assignment 3: Handling Multiple Exceptions\n",
    "\n",
    "Write a function that takes a list of integers and returns their sum. Use try, except, and finally blocks to handle TypeError if a non-integer value is encountered and print an appropriate message."
   ]
  },
  {
   "cell_type": "code",
   "execution_count": 23,
   "metadata": {},
   "outputs": [
    {
     "name": "stdout",
     "output_type": "stream",
     "text": [
      "List Contains Somthing rather than integer\n",
      "Process Completed\n",
      "None\n",
      "Process Completed\n",
      "10\n"
     ]
    }
   ],
   "source": [
    "def sum_list(lst1):\n",
    "    sum = 0\n",
    "    try:\n",
    "        for i in lst1:\n",
    "            sum += i\n",
    "        return sum\n",
    "    except TypeError as te:\n",
    "        print(\"List Contains Somthing rather than integer\")\n",
    "    finally:\n",
    "        print(\"Process Completed\")\n",
    "\n",
    "print(sum_list([1, 2, 3, 'a']))\n",
    "print(sum_list([1, 2, 3, 4]))"
   ]
  },
  {
   "cell_type": "markdown",
   "metadata": {},
   "source": [
    "### Assignment 4: Exception Handling in User Input\n",
    "\n",
    "Write a function that prompts the user to enter an integer. Use try, except, and finally blocks to handle ValueError if the user enters a non-integer value and print an appropriate message."
   ]
  },
  {
   "cell_type": "code",
   "execution_count": 25,
   "metadata": {},
   "outputs": [
    {
     "name": "stdout",
     "output_type": "stream",
     "text": [
      "The Input Must be a numeric value\n",
      "Task Completed\n",
      "None\n"
     ]
    }
   ],
   "source": [
    "def get_integer():\n",
    "    try:\n",
    "        input1 = int(input(\"Enter the Number:\"))\n",
    "        input2 = int(input(\"Enter the Number:\"))\n",
    "    except ValueError as ve:\n",
    "        print(\"The Input Must be a numeric value\")\n",
    "    finally:\n",
    "        print(\"Task Completed\")\n",
    "        \n",
    "print(get_integer())"
   ]
  },
  {
   "cell_type": "markdown",
   "metadata": {},
   "source": [
    "### Assignment 5: Exception Handling in Dictionary Access\n",
    "\n",
    "Write a function that takes a dictionary and a key as input and returns the value associated with the key. Use try, except, and finally blocks to handle KeyError if the key is not found in the dictionary and print an appropriate message."
   ]
  },
  {
   "cell_type": "code",
   "execution_count": 28,
   "metadata": {},
   "outputs": [
    {
     "name": "stdout",
     "output_type": "stream",
     "text": [
      "No such a key found in dictionary\n",
      "Process Completed\n"
     ]
    }
   ],
   "source": [
    "def get_dict_value(dict1, key):\n",
    "    try:\n",
    "        print(dict1[key])\n",
    "    except KeyError as ke:\n",
    "        print(\"No such a key found in dictionary\")\n",
    "    finally:\n",
    "        print(\"Process Completed\")\n",
    "\n",
    "dict1 = {\"Name\": \"Vaibhav\"}\n",
    "get_dict_value(dict1, \"Nam\")"
   ]
  },
  {
   "cell_type": "markdown",
   "metadata": {},
   "source": [
    "### Assignment 6: Nested Exception Handling\n",
    "\n",
    "Write a function that performs nested exception handling. It should first attempt to convert a string to an integer, and then attempt to divide by that integer. Use nested try, except, and finally blocks to handle ValueError and ZeroDivisionError and print appropriate messages."
   ]
  },
  {
   "cell_type": "code",
   "execution_count": 33,
   "metadata": {},
   "outputs": [
    {
     "name": "stdout",
     "output_type": "stream",
     "text": [
      "The Value Cannot be convert int\n",
      "process completed\n",
      "Overall execution completed\n",
      "process completed\n",
      "Cannot Divide By Zero\n",
      "Process Completed\n",
      "Overall execution completed\n"
     ]
    }
   ],
   "source": [
    "def nested_exception_handling(string):\n",
    "    try:\n",
    "        try:\n",
    "            convert_int = int(string)\n",
    "        except ValueError:\n",
    "            print(\"The Value Cannot be convert int\")\n",
    "            convert_int = None\n",
    "        finally:\n",
    "            print(\"process completed\")\n",
    "        if convert_int is not None:\n",
    "            try:\n",
    "                result = 10/convert_int\n",
    "            except ZeroDivisionError:\n",
    "                print(\"Cannot Divide By Zero\")\n",
    "                result = None\n",
    "            finally:\n",
    "                print(\"Process Completed\")\n",
    "            return result\n",
    "    finally:\n",
    "        print(\"Overall execution completed\")\n",
    "\n",
    "\n",
    "\n",
    "nested_exception_handling(\"a\")\n",
    "nested_exception_handling(\"0\")"
   ]
  },
  {
   "cell_type": "markdown",
   "metadata": {},
   "source": [
    "### Assignment 7: Exception Handling in List Operations\n",
    "\n",
    "Write a function that takes a list and an index as input and returns the element at the given index. Use try, except, and finally blocks to handle IndexError if the index is out of range and print an appropriate message."
   ]
  },
  {
   "cell_type": "code",
   "execution_count": 39,
   "metadata": {},
   "outputs": [
    {
     "name": "stdout",
     "output_type": "stream",
     "text": [
      "Index Not Found\n",
      "process completed\n"
     ]
    }
   ],
   "source": [
    "def get_list_elements(lst1, index):\n",
    "    try:\n",
    "        print(lst1[index])\n",
    "    except IndexError:\n",
    "        print(\"Index Not Found\")\n",
    "    finally:\n",
    "        print(\"process completed\")\n",
    "\n",
    "lst1 = [10, 20, 30]\n",
    "get_list_elements(lst1, 3)"
   ]
  },
  {
   "cell_type": "markdown",
   "metadata": {},
   "source": [
    "### Assignment 8: Exception Handling in Network Operations\n",
    "\n",
    "Write a function that attempts to open a URL and read its contents. Use try, except, and finally blocks to handle network-related errors and print an appropriate message."
   ]
  },
  {
   "cell_type": "code",
   "execution_count": 3,
   "metadata": {},
   "outputs": [
    {
     "ename": "ModuleNotFoundError",
     "evalue": "No module named 'requests'",
     "output_type": "error",
     "traceback": [
      "\u001b[1;31m---------------------------------------------------------------------------\u001b[0m",
      "\u001b[1;31mModuleNotFoundError\u001b[0m                       Traceback (most recent call last)",
      "Cell \u001b[1;32mIn[3], line 1\u001b[0m\n\u001b[1;32m----> 1\u001b[0m \u001b[38;5;28;01mimport\u001b[39;00m \u001b[38;5;21;01mrequests\u001b[39;00m\n\u001b[0;32m      3\u001b[0m \u001b[38;5;28;01mdef\u001b[39;00m \u001b[38;5;21mread_url\u001b[39m(url):\n\u001b[0;32m      4\u001b[0m     \u001b[38;5;28;01mtry\u001b[39;00m:\n",
      "\u001b[1;31mModuleNotFoundError\u001b[0m: No module named 'requests'"
     ]
    }
   ],
   "source": [
    "def read_url(url):\n",
    "    import requests\n",
    "    try:\n",
    "        response = requests.get(url)\n",
    "        response.raise_for_status()\n",
    "        return response.text\n",
    "    except requests.RequestException as e:\n",
    "        print(\"Network Error\")\n",
    "        return None\n",
    "    finally:\n",
    "        print(\"Process Completed\")\n",
    "\n",
    "print(read_url('https://jsonplaceholder.typicode.com/posts/1'))\n",
    "print(read_url('https://nonexistent.url'))"
   ]
  },
  {
   "cell_type": "markdown",
   "metadata": {},
   "source": [
    "### Assignment 9: Exception Handling in JSON Parsing\n",
    "\n",
    "Write a function that attempts to parse a JSON string. Use try, except, and finally blocks to handle JSONDecodeError if the string is not a valid JSON and print an appropriate message."
   ]
  },
  {
   "cell_type": "code",
   "execution_count": 4,
   "metadata": {},
   "outputs": [
    {
     "name": "stdout",
     "output_type": "stream",
     "text": [
      "Execution Complete\n",
      "{'name': 'John', 'age': 30}\n",
      "JSON Error\n",
      "Execution Complete\n",
      "None\n"
     ]
    }
   ],
   "source": [
    "import json\n",
    "\n",
    "def parse_json(json_string):\n",
    "    try:\n",
    "        data = json.loads(json_string)\n",
    "        return data\n",
    "    except json.JSONDecodeError as je:\n",
    "        print(\"JSON Error\")\n",
    "        return None\n",
    "    finally:\n",
    "        print(\"Execution Complete\")\n",
    "\n",
    "print(parse_json('{\"name\": \"John\", \"age\": 30}'))  # {'name': 'John', 'age': 30}\n",
    "print(parse_json('Invalid JSON'))"
   ]
  },
  {
   "cell_type": "markdown",
   "metadata": {},
   "source": [
    "### Assignment 10: Custom Exception Handling\n",
    "\n",
    "Define a custom exception named `NegativeNumberError`. Write a function that raises this exception if a negative number is encountered in a list. Use try, except, and finally blocks to handle the custom exception and print an appropriate message."
   ]
  },
  {
   "cell_type": "code",
   "execution_count": 16,
   "metadata": {},
   "outputs": [
    {
     "name": "stdout",
     "output_type": "stream",
     "text": [
      "ErrorNegative Number Found :-2\n",
      "Execution Complete\n",
      "Execution Complete\n"
     ]
    }
   ],
   "source": [
    "class NegativeNumberError(Exception):\n",
    "    pass\n",
    "\n",
    "def check_for_negatives(lst):\n",
    "    try:\n",
    "        for num in lst:\n",
    "            if num < 0:\n",
    "                raise NegativeNumberError(f\"Negative Number Found :{num}\")\n",
    "    except NegativeNumberError as ne:\n",
    "        print(f\"Error: {ne}\")\n",
    "    finally:\n",
    "        print(\"Execution Complete\")\n",
    "\n",
    "check_for_negatives([1, -2, 3, 4])\n",
    "check_for_negatives([1, 2, 3, 4])"
   ]
  },
  {
   "cell_type": "markdown",
   "metadata": {},
   "source": [
    "### Assignment 11: Exception Handling in Function Calls\n",
    "\n",
    "Write a function that calls another function which may raise an exception. Use try, except, and finally blocks to handle the exception and print an appropriate message."
   ]
  },
  {
   "cell_type": "code",
   "execution_count": 14,
   "metadata": {},
   "outputs": [
    {
     "name": "stdout",
     "output_type": "stream",
     "text": [
      "Error An Error has Occurred\n",
      "Process Completed\n"
     ]
    }
   ],
   "source": [
    "def risky_function():\n",
    "    raise ValueError(\"An Error has Occurred\")\n",
    "\n",
    "def safe_function():\n",
    "    try:\n",
    "        risky_function()\n",
    "    except ValueError as ve:\n",
    "        print(f\"Error: {ve}\")\n",
    "    finally:\n",
    "        print(\"Process Completed\")\n",
    "\n",
    "safe_function()"
   ]
  },
  {
   "cell_type": "markdown",
   "metadata": {},
   "source": [
    "### Assignment 12: Exception Handling in Class Methods\n",
    "\n",
    "Define a class with a method that performs a division operation. Use try, except, and finally blocks within the method to handle division by zero and print an appropriate message."
   ]
  },
  {
   "cell_type": "code",
   "execution_count": 18,
   "metadata": {},
   "outputs": [
    {
     "name": "stdout",
     "output_type": "stream",
     "text": [
      "Process Completed\n",
      "2.0\n",
      "Cannot Divide by Zero\n",
      "Process Completed\n",
      "None\n"
     ]
    }
   ],
   "source": [
    "class Calculator:\n",
    "    def divide(self, a, b):\n",
    "        try:\n",
    "            result = a/b\n",
    "        except ZeroDivisionError as ze:\n",
    "            print(\"Cannot Divide by Zero\")\n",
    "            return None\n",
    "        finally:\n",
    "            print(\"Process Completed\")\n",
    "        return result\n",
    "\n",
    "calc = Calculator()\n",
    "print(calc.divide(10, 5))\n",
    "print(calc.divide(10, 0))"
   ]
  },
  {
   "cell_type": "markdown",
   "metadata": {},
   "source": [
    "### Assignment 13: Exception Handling in Data Conversion\n",
    "\n",
    "Write a function that takes a list of strings and converts them to integers. Use try, except, and finally blocks to handle ValueError if a string cannot be converted and print an appropriate message."
   ]
  },
  {
   "cell_type": "code",
   "execution_count": 20,
   "metadata": {},
   "outputs": [
    {
     "name": "stdout",
     "output_type": "stream",
     "text": [
      "Error:invalid literal for int() with base 10: 'three'\n",
      "Process Completed\n",
      "None\n",
      "Process Completed\n",
      "[1, 2, 3, 4]\n"
     ]
    }
   ],
   "source": [
    "def convert_to_integers(lst):\n",
    "    integers = []\n",
    "    try:\n",
    "        for num in lst:\n",
    "            integers.append(int(num))\n",
    "    except ValueError as ve:\n",
    "        print(f'Error:{ve}')\n",
    "        return None\n",
    "    finally:\n",
    "        print(\"Process Completed\")        \n",
    "    return integers\n",
    "\n",
    "print(convert_to_integers(['1', '2', 'three', '4']))  # None\n",
    "print(convert_to_integers(['1', '2', '3', '4']))"
   ]
  },
  {
   "cell_type": "markdown",
   "metadata": {},
   "source": [
    "### Assignment 14: Exception Handling in List Comprehensions\n",
    "\n",
    "Write a function that uses a list comprehension to convert a list of strings to integers. Use try, except, and finally blocks within the list comprehension to handle ValueError and print an appropriate message."
   ]
  },
  {
   "cell_type": "code",
   "execution_count": 21,
   "metadata": {},
   "outputs": [
    {
     "name": "stdout",
     "output_type": "stream",
     "text": [
      "Error:invalid literal for int() with base 10: 'three'\n",
      "Process Completed\n",
      "None\n",
      "Process Completed\n",
      "[1, 2, 3, 4]\n"
     ]
    }
   ],
   "source": [
    "def convert_to_integers(lst):\n",
    "    try:\n",
    "        integers = [int(x) for x in lst]\n",
    "    except ValueError as ve:\n",
    "        print(f'Error:{ve}')\n",
    "        return None\n",
    "    finally:\n",
    "        print(\"Process Completed\")        \n",
    "    return integers\n",
    "\n",
    "print(convert_to_integers(['1', '2', 'three', '4']))  # None\n",
    "print(convert_to_integers(['1', '2', '3', '4']))"
   ]
  },
  {
   "cell_type": "markdown",
   "metadata": {},
   "source": [
    "### Assignment 15: Exception Handling in File Writing\n",
    "\n",
    "Write a function that attempts to write a list of strings to a file. Use try, except, and finally blocks to handle IOError and ensure the file is properly closed."
   ]
  },
  {
   "cell_type": "code",
   "execution_count": 23,
   "metadata": {},
   "outputs": [],
   "source": [
    "def write_strings_to_file(lst, filename):\n",
    "    try:\n",
    "        with open(filename, 'w') as file_object:\n",
    "            for string in lst:\n",
    "                file_object.write(string + '\\n')\n",
    "    except IOError as io:\n",
    "        print(f\"Error: {io}\")\n",
    "    finally:\n",
    "        try:\n",
    "            file_object.close()\n",
    "        except NameError:\n",
    "            pass\n",
    "\n",
    "\n",
    "write_strings_to_file(['Hello', 'World'], 'output.txt')"
   ]
  },
  {
   "cell_type": "code",
   "execution_count": null,
   "metadata": {},
   "outputs": [],
   "source": []
  }
 ],
 "metadata": {
  "kernelspec": {
   "display_name": "Python 3",
   "language": "python",
   "name": "python3"
  },
  "language_info": {
   "codemirror_mode": {
    "name": "ipython",
    "version": 3
   },
   "file_extension": ".py",
   "mimetype": "text/x-python",
   "name": "python",
   "nbconvert_exporter": "python",
   "pygments_lexer": "ipython3",
   "version": "3.12.4"
  }
 },
 "nbformat": 4,
 "nbformat_minor": 2
}
