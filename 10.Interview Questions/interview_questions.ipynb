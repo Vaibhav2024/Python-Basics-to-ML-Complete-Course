{
 "cells": [
  {
   "cell_type": "markdown",
   "metadata": {},
   "source": [
    "remove the empty tuple from a list"
   ]
  },
  {
   "cell_type": "code",
   "execution_count": 2,
   "metadata": {},
   "outputs": [
    {
     "name": "stdout",
     "output_type": "stream",
     "text": [
      "[1, 2, 3, (1, 2), 879, 'FFF', [], {}]\n"
     ]
    }
   ],
   "source": [
    "file1 = [1,2,3,(),(1,2),879,\"FFF\",(),[],{}]\n",
    "empty_tuple = [x for x in file1 if x!=()]\n",
    "print(empty_tuple)"
   ]
  },
  {
   "cell_type": "markdown",
   "metadata": {},
   "source": [
    "reverse each word with reverse string"
   ]
  },
  {
   "cell_type": "code",
   "execution_count": 7,
   "metadata": {},
   "outputs": [
    {
     "name": "stdout",
     "output_type": "stream",
     "text": [
      ". sad ..akitagaws ma i\n",
      "['i', 'am', 'swagatika..', 'das', '.']\n",
      "['.', 'das', 'swagatika..', 'am', 'i']\n",
      ".sad..akitagawsmai"
     ]
    }
   ],
   "source": [
    "input_string = \"i am swagatika.. das .\"\n",
    "# print(input_string[::-1]) if you do like this then you cannot remove space \n",
    "conv_to_list = input_string.split(\" \")\n",
    "print(conv_to_list)\n",
    "rev_string_to_list = conv_to_list[::-1]\n",
    "print(rev_string_to_list)\n",
    "for i in rev_string_to_list:\n",
    "    print(i[::-1], end=\"\")"
   ]
  },
  {
   "cell_type": "markdown",
   "metadata": {},
   "source": [
    "reverse a integer"
   ]
  },
  {
   "cell_type": "code",
   "execution_count": 10,
   "metadata": {},
   "outputs": [
    {
     "name": "stdout",
     "output_type": "stream",
     "text": [
      "Reversed Number: 4321\n"
     ]
    }
   ],
   "source": [
    "num = 1234\n",
    "reversed_num = 0\n",
    "while num!=0:\n",
    "    digit = num % 10\n",
    "    reversed_num = reversed_num * 10 + digit\n",
    "    num //= 10\n",
    "print(\"Reversed Number:\", reversed_num)"
   ]
  },
  {
   "cell_type": "markdown",
   "metadata": {},
   "source": [
    "Reverse character of a string but special character remain in same position"
   ]
  },
  {
   "cell_type": "code",
   "execution_count": 14,
   "metadata": {},
   "outputs": [
    {
     "name": "stdout",
     "output_type": "stream",
     "text": [
      "u g j k 5 6 5 $ $ % * y t V t r # g h B ^ ) ( g b s a\n"
     ]
    }
   ],
   "source": [
    "input_string = \"asbg565$$%*Bhgrt#Vty^)(kjgu\"\n",
    "input_list = list(input_string)\n",
    "start_index = 0\n",
    "last_index = len(input_list)-1\n",
    "while start_index < last_index:\n",
    "    if not input_list[start_index].isalpha():\n",
    "        start_index += 1\n",
    "    elif not input_list[last_index].isalpha():\n",
    "        last_index -= 1\n",
    "    else:\n",
    "        input_list[start_index], input_list[last_index] = input_list[last_index], input_list[start_index]\n",
    "        start_index += 1\n",
    "        last_index -= 1\n",
    "\n",
    "result = \" \".join(input_list)\n",
    "print(result)\n",
    "        "
   ]
  },
  {
   "cell_type": "markdown",
   "metadata": {},
   "source": [
    "sort function"
   ]
  },
  {
   "cell_type": "code",
   "execution_count": 17,
   "metadata": {},
   "outputs": [
    {
     "name": "stdout",
     "output_type": "stream",
     "text": [
      "[0, 0, 0, 6, 7, 8, 8, 9, 9, 9, 9, 10, 11]\n"
     ]
    }
   ],
   "source": [
    "input_string = [10,11,9,8,7,6,9,0,9,0,0,9,8]\n",
    "for i in range(0, len(input_string)):\n",
    "    for j in range(i, len(input_string)):\n",
    "        if input_string[i] > input_string[j]:\n",
    "            input_string[j], input_string[i] = input_string[i], input_string[j]\n",
    "\n",
    "print(input_string)"
   ]
  },
  {
   "cell_type": "markdown",
   "metadata": {},
   "source": [
    "find the repetition of character"
   ]
  },
  {
   "cell_type": "code",
   "execution_count": 18,
   "metadata": {},
   "outputs": [
    {
     "name": "stdout",
     "output_type": "stream",
     "text": [
      "{'w': 2, 'k': 1, 'f': 1, 'r': 1, 'd': 2, 's': 2, 'a': 1, 'v': 1, 'g': 1}\n"
     ]
    }
   ],
   "source": [
    "list1 = ['w','w','k','f','r','d','s','s','d','a','v','g']\n",
    "temp = {}\n",
    "for i in list1:\n",
    "    if i in temp:\n",
    "        temp[i] += 1\n",
    "    else:\n",
    "        temp[i] = 1\n",
    "\n",
    "print(temp)"
   ]
  },
  {
   "cell_type": "markdown",
   "metadata": {},
   "source": [
    "find the frequency of word in a list"
   ]
  },
  {
   "cell_type": "code",
   "execution_count": 25,
   "metadata": {},
   "outputs": [
    {
     "name": "stdout",
     "output_type": "stream",
     "text": [
      "{'dog': 2, 'cat': 3, 'pig': 1, 'bird': 1, 'nest': 1}\n",
      "not found\n",
      "not found\n",
      "not found\n",
      "not found\n",
      "not found\n",
      "2\n"
     ]
    }
   ],
   "source": [
    "freq_list = [\"dog\",\"cat\",\"cat\",\"pig\",\"bird\",\"cat\",\"dog\",\"nest\"]\n",
    "count = {}\n",
    "for i in freq_list:\n",
    "    if i in count:\n",
    "        count[i] += 1\n",
    "    else:\n",
    "        count[i] = 1\n",
    "print(count)\n",
    "for i in count:\n",
    "    if count.get(i) == 4:\n",
    "        print(\"found\",\"for\",i)\n",
    "    else:\n",
    "        print(\"not found\")\n",
    "\n",
    "print(count.get(\"dog\"))"
   ]
  },
  {
   "cell_type": "markdown",
   "metadata": {},
   "source": [
    "Sum of digit until it reduces to single digit"
   ]
  },
  {
   "cell_type": "code",
   "execution_count": 4,
   "metadata": {},
   "outputs": [
    {
     "name": "stdout",
     "output_type": "stream",
     "text": [
      "1\n"
     ]
    }
   ],
   "source": [
    "n = 25678\n",
    "while n > 9:\n",
    "    n = sum(int(i) for i in str(n)) #converts n to string and then sums the value that is 2+5+6+7+8=28 in next\n",
    "print(n)                            #in next iteration takes 28 and iterate over it 2+8=10 and then 1+0=1"
   ]
  },
  {
   "cell_type": "markdown",
   "metadata": {},
   "source": [
    "sum the digit of a number"
   ]
  },
  {
   "cell_type": "code",
   "execution_count": 10,
   "metadata": {},
   "outputs": [
    {
     "name": "stdout",
     "output_type": "stream",
     "text": [
      "21\n"
     ]
    }
   ],
   "source": [
    "number = 123456\n",
    "sum = 0\n",
    "while number > 0:\n",
    "    floor_div = number % 10\n",
    "    sum = sum + floor_div\n",
    "    number = number // 10\n",
    "print(sum)"
   ]
  },
  {
   "cell_type": "markdown",
   "metadata": {},
   "source": [
    "find the prime number between 100 and 200"
   ]
  },
  {
   "cell_type": "code",
   "execution_count": 29,
   "metadata": {},
   "outputs": [
    {
     "name": "stdout",
     "output_type": "stream",
     "text": [
      "101\n",
      "103\n",
      "107\n",
      "109\n",
      "113\n",
      "127\n",
      "131\n",
      "137\n",
      "139\n",
      "149\n",
      "151\n",
      "157\n",
      "163\n",
      "167\n",
      "173\n",
      "179\n",
      "181\n",
      "191\n",
      "193\n",
      "197\n",
      "199\n"
     ]
    }
   ],
   "source": [
    "for number in range(100, 201):\n",
    "    if all(number%i!=0 for i in range(2, number)):\n",
    "        print(number)"
   ]
  },
  {
   "cell_type": "markdown",
   "metadata": {},
   "source": [
    "Print the Second Largest element in a list"
   ]
  },
  {
   "cell_type": "code",
   "execution_count": 1,
   "metadata": {},
   "outputs": [
    {
     "name": "stdout",
     "output_type": "stream",
     "text": [
      "First : 3\n",
      "Second : 1\n",
      "First : 4\n",
      "Second : 2\n",
      "First : 16\n",
      "Second : 15\n",
      "15\n"
     ]
    }
   ],
   "source": [
    "list4 = [3, 1, 4, 2, 16, 15, 10]\n",
    "i = 0\n",
    "j = 0\n",
    "for iterator in list4:\n",
    "    if iterator > i:\n",
    "        i = iterator\n",
    "        print(\"First :\", i)\n",
    "    elif iterator < i and iterator > j:\n",
    "        j = iterator\n",
    "        print(\"Second :\", j)\n",
    "\n",
    "print(j)"
   ]
  },
  {
   "cell_type": "markdown",
   "metadata": {},
   "source": [
    "String(finding unique characters)"
   ]
  },
  {
   "cell_type": "code",
   "execution_count": 22,
   "metadata": {},
   "outputs": [
    {
     "name": "stdout",
     "output_type": "stream",
     "text": [
      "['y', 'n', 'e', 's', 'b', 'h', 'p']\n"
     ]
    }
   ],
   "source": [
    "string = \"my name is vaibhav p\"\n",
    "list2 = []\n",
    "for i in string:\n",
    "    if string.count(i) > 1:\n",
    "        pass\n",
    "    else:\n",
    "        list2.append(i)\n",
    "\n",
    "print(list2)"
   ]
  },
  {
   "cell_type": "markdown",
   "metadata": {},
   "source": [
    "List finding the largest element"
   ]
  },
  {
   "cell_type": "code",
   "execution_count": 24,
   "metadata": {},
   "outputs": [
    {
     "name": "stdout",
     "output_type": "stream",
     "text": [
      "16\n"
     ]
    }
   ],
   "source": [
    "list4 = [3, 1, 4, 2, 16, 15, 10]\n",
    "largest = 0\n",
    "for i in list4:\n",
    "    if i > largest:\n",
    "        largest = i\n",
    "\n",
    "print(largest)"
   ]
  },
  {
   "cell_type": "markdown",
   "metadata": {},
   "source": [
    "reversing a string without affecting special character"
   ]
  },
  {
   "cell_type": "code",
   "execution_count": 19,
   "metadata": {},
   "outputs": [
    {
     "name": "stdout",
     "output_type": "stream",
     "text": [
      "ugjk565$$%*ytVtr#ghB^)(gbsa\n"
     ]
    }
   ],
   "source": [
    "input_string = \"asbg565$$%*Bhgrt#Vty^)(kjgu\"\n",
    "input_list1 = list(input_string)\n",
    "start_index = 0\n",
    "end_index = len(input_list1) - 1\n",
    "while start_index < end_index:\n",
    "    if not input_list1[start_index].isalpha():\n",
    "        start_index += 1\n",
    "    elif not input_list1[end_index].isalpha():\n",
    "        end_index -= 1\n",
    "    else:\n",
    "        input_list1[start_index], input_list1[end_index] = input_list1[end_index], input_list1[start_index]\n",
    "        start_index += 1\n",
    "        end_index -= 1\n",
    "\n",
    "print(\"\".join(input_list1))"
   ]
  },
  {
   "cell_type": "markdown",
   "metadata": {},
   "source": [
    "finding smallest numeber in list"
   ]
  },
  {
   "cell_type": "code",
   "execution_count": 26,
   "metadata": {},
   "outputs": [
    {
     "name": "stdout",
     "output_type": "stream",
     "text": [
      "1\n"
     ]
    }
   ],
   "source": [
    "list4 = [3, 1, 4, 2, 16, 15, 10]\n",
    "smallest = list4[0]\n",
    "for i in list4:\n",
    "    if i < smallest:\n",
    "        smallest = i\n",
    "\n",
    "print(smallest)"
   ]
  },
  {
   "cell_type": "markdown",
   "metadata": {},
   "source": [
    "checking if string are circular"
   ]
  },
  {
   "cell_type": "code",
   "execution_count": 31,
   "metadata": {},
   "outputs": [
    {
     "name": "stdout",
     "output_type": "stream",
     "text": [
      "The String is Circular\n"
     ]
    }
   ],
   "source": [
    "def rotate(string,string2, rotate_by_index):\n",
    "    if string[rotate_by_index:] + string[:rotate_by_index] == string2:\n",
    "        print(\"The String is Circular\")\n",
    "    else:\n",
    "        print(\"The String is not Circular\")\n",
    "string = 'abcde'\n",
    "string2 = 'cdeab'\n",
    "rotate(string,string2, 2)\n"
   ]
  },
  {
   "cell_type": "code",
   "execution_count": null,
   "metadata": {},
   "outputs": [],
   "source": [
    "def is_circular(s1: str, s2: str) -> bool:\n",
    "    if len(s1) != len(s2):\n",
    "        return False\n",
    "    \n",
    "    s1s1 = s1 + s1\n",
    "    \n",
    "    return s2 in s1s1\n",
    "\n",
    "# Example usage\n",
    "s1 = \"waterbottle\"\n",
    "s2 = \"erbottlewat\"\n",
    "print(is_circular(s1, s2))  # Output: True\n"
   ]
  },
  {
   "cell_type": "markdown",
   "metadata": {},
   "source": [
    "Find the longest of string"
   ]
  },
  {
   "cell_type": "code",
   "execution_count": 51,
   "metadata": {},
   "outputs": [
    {
     "name": "stdout",
     "output_type": "stream",
     "text": [
      "banana\n"
     ]
    }
   ],
   "source": [
    "list5 = [\"apple\", \"banana\", \"pie\", \"banana\", 'chik']\n",
    "for i in list5:\n",
    "    if list5.count(i) > 1:\n",
    "        list5.remove(i)\n",
    "\n",
    "largest = ''\n",
    "for i in list5:\n",
    "    if len(i) > len(largest):\n",
    "        largest = i\n",
    "\n",
    "print(largest)"
   ]
  },
  {
   "cell_type": "code",
   "execution_count": null,
   "metadata": {},
   "outputs": [],
   "source": []
  }
 ],
 "metadata": {
  "kernelspec": {
   "display_name": "Python 3",
   "language": "python",
   "name": "python3"
  },
  "language_info": {
   "codemirror_mode": {
    "name": "ipython",
    "version": 3
   },
   "file_extension": ".py",
   "mimetype": "text/x-python",
   "name": "python",
   "nbconvert_exporter": "python",
   "pygments_lexer": "ipython3",
   "version": "3.12.4"
  }
 },
 "nbformat": 4,
 "nbformat_minor": 2
}
